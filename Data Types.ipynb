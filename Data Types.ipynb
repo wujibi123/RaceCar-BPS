{
 "cells": [
  {
   "cell_type": "markdown",
   "metadata": {},
   "source": [
    "# **Data Types**\n"
   ]
  },
  {
   "cell_type": "markdown",
   "metadata": {},
   "source": [
    "## What Are Data Types?\n",
    "A data type is the way that computers classify different types of info. Humans also do this, they know the difference between a word, a letter, and a number. Computers do this is in a similar way, with decimals, numbers, letters, and true of false statements being the most common ones. "
   ]
  },
  {
   "cell_type": "markdown",
   "metadata": {},
   "source": [
    "## Integers \n",
    "Integers as you probably know are whole numbers that do not contain any decimals. This is true in python as well. You can do the four standard mathamatical operations on them as well. (I am using \"print\" so that the results are displayed)"
   ]
  },
  {
   "cell_type": "code",
   "execution_count": null,
   "metadata": {
    "scrolled": false
   },
   "outputs": [],
   "source": [
    "# Try running the code below\n",
    "print '55 + 1 =',55 + 1\n",
    "print '8 - 2 =',8 - 2\n",
    "print '22 * 3 =',22 * 3\n",
    "print '24 / 4 =',24 / 4"
   ]
  },
  {
   "cell_type": "markdown",
   "metadata": {},
   "source": [
    "There are also different operations in python that you have seen. (The \"print '\\n' \" makes the output nicer by adding a space)"
   ]
  },
  {
   "cell_type": "code",
   "execution_count": null,
   "metadata": {},
   "outputs": [],
   "source": [
    "# The \"%\" is modulo, it gives you the remainder of a division operation\n",
    "print '5 % 2 =',5 % 2\n",
    "print '10 % 5 =',10 % 5\n",
    "print '\\n'\n",
    "\n",
    "# Using two multipiclation signs together \"**\" will let you raise a number to a power\n",
    "print '2 ** 2 =',2 ** 2\n",
    "print '2 ** 3 =',2 ** 3\n",
    "print '3 ** 2 =',3 ** 2"
   ]
  },
  {
   "cell_type": "code",
   "execution_count": null,
   "metadata": {},
   "outputs": [],
   "source": [
    "#try doing some of your own operations with integers in this box, you can also leave the parts in quotation marks out"
   ]
  },
  {
   "cell_type": "markdown",
   "metadata": {},
   "source": [
    "## Doubles (decimals)\n",
    "\n",
    "Decimals in python operate mostly how you think they would. You can do operations on them like with integers, but unlike integers they can not hold an infinitely large number."
   ]
  },
  {
   "cell_type": "code",
   "execution_count": null,
   "metadata": {
    "scrolled": true
   },
   "outputs": [],
   "source": [
    "print '2.5 + .5 =',2.5 + .5\n",
    "print '2.0 - .5 =',2.0 - 0.5\n",
    "print '2.0 * 5.5 =',2.0 * 5.5\n",
    "print '5.0 / 2.5 =',5.0 / 2.5"
   ]
  },
  {
   "cell_type": "code",
   "execution_count": null,
   "metadata": {},
   "outputs": [],
   "source": [
    "#try doing some of your own operations on doubles in this box"
   ]
  },
  {
   "cell_type": "markdown",
   "metadata": {},
   "source": [
    "## Booleans (True or False)\n",
    "Booleans are basically true or false statments. They can also be expressed with any number other than 0 being true, and 0 being false. \n",
    "\n",
    "In python you write true and false with capital first letters so \"True\" and \"False\".\n",
    "\n",
    "Also, \"==\" translates to \"equals\" or \"is\" and \"!=\" translates to \"does not equal\" or \"is not\"."
   ]
  },
  {
   "cell_type": "code",
   "execution_count": 29,
   "metadata": {},
   "outputs": [
    {
     "name": "stdout",
     "output_type": "stream",
     "text": [
      "True\n",
      "False\n",
      "True\n",
      "True\n",
      "\n",
      "\n",
      "True\n",
      "False\n",
      "True\n"
     ]
    }
   ],
   "source": [
    "print True == True\n",
    "print False == True\n",
    "print True != False\n",
    "print False != True\n",
    "print '\\n'\n",
    "\n",
    "print 0 == False\n",
    "print 1 == False\n",
    "print -1 != 0"
   ]
  },
  {
   "cell_type": "code",
   "execution_count": null,
   "metadata": {},
   "outputs": [],
   "source": [
    "#try using booleans by yourself"
   ]
  },
  {
   "cell_type": "markdown",
   "metadata": {},
   "source": [
    "# Future Topics\n",
    "In python there are also things called data structures. Data structures are basically just a collection of data. We will not cover them right know, but just be aware that they exist."
   ]
  }
 ],
 "metadata": {
  "kernelspec": {
   "display_name": "Python 3",
   "language": "python",
   "name": "python3"
  },
  "language_info": {
   "codemirror_mode": {
    "name": "ipython",
    "version": 3
   },
   "file_extension": ".py",
   "mimetype": "text/x-python",
   "name": "python",
   "nbconvert_exporter": "python",
   "pygments_lexer": "ipython3",
   "version": "3.7.1"
  }
 },
 "nbformat": 4,
 "nbformat_minor": 2
}
