{
 "cells": [
  {
   "cell_type": "markdown",
   "metadata": {},
   "source": [
    "# Variables"
   ]
  },
  {
   "cell_type": "markdown",
   "metadata": {},
   "source": [
    "Variables are placeholders - they allow us to store information to be easily used and changed throughout the program. Naming a variable makes life easier because data can be retrived and mutated easily. Variables are *vari* useful and can be found in any piece of code in any language."
   ]
  },
  {
   "cell_type": "markdown",
   "metadata": {},
   "source": [
    "#### Assignment"
   ]
  },
  {
   "cell_type": "markdown",
   "metadata": {},
   "source": [
    "Variables are assigned with the `=` symbol, which is called the assignment operator. This is the general syntax:  `<variable name> = <object>`. The **variable name is always on the left** and the **object is always on the right**. We will only be dealing with `int`, `float`, and `string` in this section, and you should be familiar with them from the previous section."
   ]
  },
  {
   "cell_type": "code",
   "execution_count": null,
   "metadata": {},
   "outputs": [],
   "source": [
    "#Run the following code\n",
    "name = \"Daniel\"\n",
    "print name"
   ]
  },
  {
   "cell_type": "markdown",
   "metadata": {},
   "source": [
    "See what happens when the variable name is switch with the object."
   ]
  },
  {
   "cell_type": "code",
   "execution_count": null,
   "metadata": {},
   "outputs": [],
   "source": [
    "#Run the following code\n",
    "\"Daniel\" = name #Switched\n",
    "print name"
   ]
  },
  {
   "cell_type": "markdown",
   "metadata": {},
   "source": [
    "Note how the above returns an error. Unlike in math, you cannot reverse the variable name and the value."
   ]
  },
  {
   "cell_type": "markdown",
   "metadata": {},
   "source": [
    "#### Valid names\n",
    "A variable name can only contain alphanumeric characters and the underscore `_`. The former is just a fancy word for the alphabet and the positive single digit integers (`0-9`, `a-z`, and `A-Z`). "
   ]
  },
  {
   "cell_type": "code",
   "execution_count": 3,
   "metadata": {},
   "outputs": [],
   "source": [
    "earth = \"round\" # alphabet\n",
    "h3llo = 10 # alphabet + number\n",
    "var_name = 187 # alphabet + underscore\n",
    "_918301_ = \"idk\" # numbers + underscore\n",
    "_____ = \"really?\" # underscore only"
   ]
  },
  {
   "cell_type": "markdown",
   "metadata": {},
   "source": [
    "In addition, variable names can't start with numbers or contain periods. Try running the following block."
   ]
  },
  {
   "cell_type": "code",
   "execution_count": null,
   "metadata": {},
   "outputs": [],
   "source": [
    ".wrong = \"this won't work\"\n",
    "..... = \"?\"\n",
    "1978 = \"Big Brother\"\n",
    "6ix9ine = \"+4\""
   ]
  },
  {
   "cell_type": "markdown",
   "metadata": {},
   "source": [
    "They also can't be exisiting Python operators like \n",
    "\n",
    "```for, while, break, pass, continue\n",
    "in, is, not\n",
    "if, else, elif\n",
    "def, class, return, yield, raises\n",
    "import, from, as, with\n",
    "try, except, finally```\n"
   ]
  },
  {
   "cell_type": "code",
   "execution_count": null,
   "metadata": {},
   "outputs": [],
   "source": [
    "for = \"loop\"\n",
    "def = \"functions\"\n",
    "finally = \"this is an operator?\""
   ]
  },
  {
   "cell_type": "markdown",
   "metadata": {},
   "source": [
    "#### Unassigned variables\n",
    "You have to assign a variable before using it in your code! If you don't tell python what your variable stands for, it won't know what to do. \n"
   ]
  },
  {
   "cell_type": "code",
   "execution_count": null,
   "metadata": {},
   "outputs": [],
   "source": [
    "#run and see what happens!\n",
    "print(\"I like \" + favorite_Fruit) #favorite_fruit isn't previously defined!"
   ]
  },
  {
   "cell_type": "markdown",
   "metadata": {},
   "source": [
    "#### Reassignment"
   ]
  },
  {
   "cell_type": "markdown",
   "metadata": {},
   "source": [
    "Variables can be reassigned to different values. The \"most recent\" reassignment will be used."
   ]
  },
  {
   "cell_type": "code",
   "execution_count": 11,
   "metadata": {},
   "outputs": [],
   "source": [
    "#examples\n",
    "a = \"apples\"\n",
    "print a\n",
    "a = \"adam\"\n",
    "print a"
   ]
  },
  {
   "cell_type": "markdown",
   "metadata": {},
   "source": [
    "You can also assign new variables from old ones"
   ]
  },
  {
   "cell_type": "code",
   "execution_count": 7,
   "metadata": {},
   "outputs": [],
   "source": [
    "x = 10\n",
    "#Assign y to x\n",
    "y = x\n",
    "\n",
    "#Assign z based off y\n",
    "z = y + 5\n",
    "\n",
    "#Print x, y, and z out!"
   ]
  },
  {
   "cell_type": "markdown",
   "metadata": {},
   "source": [
    "Note how changing z doesn't change x and y\n",
    "\n",
    "Similarly, changing x won't change y and z\n",
    "\n",
    "(This is because integers are immutable, things would be different with lists!)"
   ]
  },
  {
   "cell_type": "code",
   "execution_count": null,
   "metadata": {},
   "outputs": [],
   "source": [
    "#Cool trick: you can also swap variables \n",
    "a = 3\n",
    "b = 9\n",
    "a,b = b,a   #syntax for swapping\n",
    "print a,b"
   ]
  },
  {
   "cell_type": "markdown",
   "metadata": {},
   "source": [
    "#### Assignment operations "
   ]
  },
  {
   "cell_type": "markdown",
   "metadata": {},
   "source": [
    "Assignment operations are extentions of the `=` assignment operator. They add logicial operations onto reassigning variables. These operatons have to operate on an existing variable, and they follow the format `<varible> <assignment operation> <object>`."
   ]
  },
  {
   "cell_type": "markdown",
   "metadata": {},
   "source": [
    "| Operation|        Meaning        |\n",
    "| ---|:---------------------------:|\n",
    "| `+=`  | Right value **added** to the left variable, assigning the new value to the left variable.|\n",
    "| `-=` | Right value **subtracted** from the left variable, assigning the new value to the left variable. |\n",
    "| `*=`  |Right value **multiplied** by the left variable, assigning the new value to the left variable.  |\n",
    "| `/=` | Right value **divided** by the left variable, assigning the new value to the left variable.      |\n",
    "| `**=` | Right value is the **exponent** of the left variable, assigning the new value to the left variable.|\n",
    "| `%=` | The new value is left value **mod** right value, and it is assigned to the left variable.|\n",
    "\n",
    "---\n",
    "Don't worry - these are just a shorter/easier way of writing things!\n",
    "\n",
    "`x += 1` is the same as `x = x+1`"
   ]
  },
  {
   "cell_type": "markdown",
   "metadata": {},
   "source": [
    "Here's an example of the `+=` operation."
   ]
  },
  {
   "cell_type": "code",
   "execution_count": null,
   "metadata": {},
   "outputs": [],
   "source": [
    "#examples\n",
    "x = 1\n",
    "x += 1    #this is the same as x = x+1\n",
    "print x"
   ]
  },
  {
   "cell_type": "markdown",
   "metadata": {},
   "source": [
    "And also one for `-=`."
   ]
  },
  {
   "cell_type": "code",
   "execution_count": null,
   "metadata": {},
   "outputs": [],
   "source": [
    "#examples\n",
    "big_number = 70\n",
    "big_number -= 1     #this is the same as big_number = big_number-1\n",
    "print big_number"
   ]
  },
  {
   "cell_type": "markdown",
   "metadata": {},
   "source": [
    "And the `*=` operator."
   ]
  },
  {
   "cell_type": "code",
   "execution_count": null,
   "metadata": {},
   "outputs": [],
   "source": [
    "#examples\n",
    "apples = 4\n",
    "apples *= 3    #this is the same as apples = apples * 3\n",
    "print apples"
   ]
  },
  {
   "cell_type": "markdown",
   "metadata": {},
   "source": [
    "The `/=` operator is tricky because it defaults to integer division. To reiterate what you learned in data types, add `.` at the end of the number to make the program do a real division."
   ]
  },
  {
   "cell_type": "markdown",
   "metadata": {},
   "source": [
    "This is an integer division. "
   ]
  },
  {
   "cell_type": "code",
   "execution_count": 4,
   "metadata": {},
   "outputs": [
    {
     "name": "stdout",
     "output_type": "stream",
     "text": [
      "33\n"
     ]
    }
   ],
   "source": [
    "#examples\n",
    "h = 100\n",
    "h /= 3    #the same as h = h/3\n",
    "print h"
   ]
  },
  {
   "cell_type": "markdown",
   "metadata": {},
   "source": [
    "This is a real division."
   ]
  },
  {
   "cell_type": "code",
   "execution_count": 5,
   "metadata": {},
   "outputs": [
    {
     "name": "stdout",
     "output_type": "stream",
     "text": [
      "33.3333333333\n"
     ]
    }
   ],
   "source": [
    "h = 100\n",
    "h /= 3. #note the addition of the '.' It can also be added to the 100.\n",
    "print h"
   ]
  },
  {
   "cell_type": "markdown",
   "metadata": {},
   "source": [
    "`**=`"
   ]
  },
  {
   "cell_type": "code",
   "execution_count": null,
   "metadata": {},
   "outputs": [],
   "source": [
    "#examples\n",
    "bananas = 2\n",
    "exponent = 3\n",
    "bananas *= exponent    #the same as bananas = bananas ** exponent\n",
    "print bananas"
   ]
  },
  {
   "cell_type": "markdown",
   "metadata": {},
   "source": [
    "**`%=`**  (recall that `%`, or modulo, is used to find the remainder)"
   ]
  },
  {
   "cell_type": "code",
   "execution_count": null,
   "metadata": {},
   "outputs": [],
   "source": [
    "cookies = 20\n",
    "cookie_per_person = 6\n",
    "cookies %= cookies_per_person    #the same as cookies = cookies % cookies_per_person\n",
    "#this finds the # of cookies left over!\n",
    "print cookies"
   ]
  },
  {
   "cell_type": "markdown",
   "metadata": {},
   "source": [
    "You can also add strings!"
   ]
  },
  {
   "cell_type": "code",
   "execution_count": null,
   "metadata": {},
   "outputs": [],
   "source": [
    "my_string = \"Hello_\"\n",
    "your_string = \"World\"\n",
    "\n",
    "my_string += your_string    #same as my_string = my_string + your_string\n",
    "\n",
    "print my_string"
   ]
  },
  {
   "cell_type": "markdown",
   "metadata": {},
   "source": [
    "**Adding strings with variables** is super useful! You just use `+`, the same as above. (hint hint you'll use it later in the lab!)\n"
   ]
  },
  {
   "cell_type": "code",
   "execution_count": null,
   "metadata": {},
   "outputs": [],
   "source": [
    "weather = \"rainy\"\n",
    "print \"Tomorrow's weather is \" + weather + \", so I guess I'll have to bring an umbrella\""
   ]
  },
  {
   "cell_type": "markdown",
   "metadata": {},
   "source": [
    "Similarly, you can also multiply strings!"
   ]
  },
  {
   "cell_type": "code",
   "execution_count": null,
   "metadata": {},
   "outputs": [],
   "source": [
    "x = \"hi \"\n",
    "x *= 20\n",
    "print x"
   ]
  },
  {
   "cell_type": "markdown",
   "metadata": {},
   "source": [
    "## Exercises"
   ]
  },
  {
   "cell_type": "markdown",
   "metadata": {},
   "source": [
    "As you do these excersies, remember to use variables and don't just type in the object. Make sure that the outputs are valid no matter what the variable is(given that the variable is assigned correctly)."
   ]
  },
  {
   "cell_type": "code",
   "execution_count": 25,
   "metadata": {},
   "outputs": [],
   "source": [
    "#Declare variables for the following:\n",
    "#Your name, age, favorite color, number of siblings you have\n",
    "\n",
    "name = \"Daniel\"\n",
    "age = 14\n",
    "fav_color = \"blue\"\n",
    "num_sibs = 0"
   ]
  },
  {
   "cell_type": "code",
   "execution_count": 28,
   "metadata": {},
   "outputs": [
    {
     "name": "stdout",
     "output_type": "stream",
     "text": [
      "DanielDanielDanielDanielDanielDanielDanielDanielDanielDanielDanielDanielDanielDanielDanielDanielDanielDanielDanielDanielDanielDanielDanielDanielDanielDanielDanielDanielDanielDanielDanielDanielDanielDanielDanielDanielDanielDanielDanielDanielDanielDanielDanielDanielDanielDanielDanielDanielDanielDanielDanielDanielDanielDanielDanielDanielDanielDanielDanielDanielDanielDanielDanielDanielDanielDanielDanielDanielDanielDanielDanielDanielDanielDanielDanielDanielDanielDanielDanielDanielDanielDanielDanielDanielDanielDanielDanielDanielDanielDanielDanielDanielDanielDanielDanielDanielDanielDanielDanielDaniel\n"
     ]
    }
   ],
   "source": [
    "#Print your name 100 times (hint: use your name variable and multiplication!)\n",
    "print name*100\n"
   ]
  },
  {
   "cell_type": "code",
   "execution_count": 27,
   "metadata": {},
   "outputs": [],
   "source": [
    "#Make a variable x, and make it equal to 1 more than the variable (age)\n",
    "\n",
    "x = age + 1"
   ]
  },
  {
   "cell_type": "code",
   "execution_count": null,
   "metadata": {},
   "outputs": [],
   "source": [
    "#age, num_sibs, and x are converted into strings, since integers can't be added with strings\n",
    "#you don't need to do anything else in this cell\n",
    "\n",
    "age = str(age)\n",
    "num_sibs = str(num_sibs)\n",
    "x = str(x)"
   ]
  },
  {
   "cell_type": "code",
   "execution_count": 16,
   "metadata": {},
   "outputs": [
    {
     "name": "stdout",
     "output_type": "stream",
     "text": [
      "Hi, I'm Daniel. My favorite color is blue.\n"
     ]
    }
   ],
   "source": [
    "#Now, use these variables to introduce yourself!\n",
    "#Hint: use strings + variables\n",
    "age = str(age)\n",
    "\n",
    "print \"Hi, I'm \" + name + \", and I am \" + age + \". My favorite color is \" + fav_color + \", and I have \" + num_sibs + \" siblings\""
   ]
  },
  {
   "cell_type": "code",
   "execution_count": 23,
   "metadata": {},
   "outputs": [
    {
     "name": "stdout",
     "output_type": "stream",
     "text": [
      "I will be 15 next year.\n"
     ]
    }
   ],
   "source": [
    "#Print a sentence saying how old you will be next year! \n",
    "#Be sure to use the new variable x\n",
    "\n",
    "\n",
    "\n",
    "print \"I will be \" + y + \" next year.\"\n"
   ]
  },
  {
   "cell_type": "markdown",
   "metadata": {},
   "source": [
    "## Lab!"
   ]
  },
  {
   "cell_type": "markdown",
   "metadata": {},
   "source": [
    "Homer Simpson wants to calculate the amount of donuts he has based on the number of Bart's detentions and the height of Marge's hair. The more donuts Barts steals from Apu and puts into Homer's stash, the more detentions he gets (he gets 2 detentions every 5 donuts he steals). The taller Marge's hair, the more donuts she eats because she needs more nutrients to sustain the hair (she eats 3 donuts for every inch of her hair). Also, he eats 13 donuts every day.\n",
    "\n",
    "Homer had 10 donuts to begin with last week. Over the course of the week. Bart had 278 detentions and Marge's hair grew 43 inches. How many donuts does Homer have now?\n",
    "\n",
    "#### Remember to use variables! It's a much easier math problem if you use variables :)"
   ]
  },
  {
   "cell_type": "code",
   "execution_count": 6,
   "metadata": {},
   "outputs": [
    {
     "name": "stdout",
     "output_type": "stream",
     "text": [
      "485.0\n"
     ]
    }
   ],
   "source": [
    "#Your code here\n",
    "#Make variables here!\n",
    "\n",
    "stash = 10\n",
    "bart_factor = 5/2.\n",
    "marge_factor = -3\n",
    "\n",
    "detention = 278\n",
    "hair = 43\n",
    "homer_daily_consume = -13\n",
    "\n",
    "stash += detention*bart_factor + hair*marge_factor + homer_daily_consume*7\n",
    "print stash"
   ]
  },
  {
   "cell_type": "markdown",
   "metadata": {},
   "source": [
    "Now, suppose that over the next week, Bart will get 208 detentions while Marge's hair will grow 232 inches. Homer goes on a diet and will only eat 12 donuts every day instead of 13. How many donuts would Homer have by the end of next week?\n",
    "#### If you did the previous part right, this should be as easy as changing the value of some variables from your previous code!"
   ]
  },
  {
   "cell_type": "code",
   "execution_count": 8,
   "metadata": {},
   "outputs": [
    {
     "name": "stdout",
     "output_type": "stream",
     "text": [
      "225.0\n"
     ]
    }
   ],
   "source": [
    "#Your code here\n",
    "#Make variables here!\n",
    "\n",
    "stash = 485\n",
    "bart_factor = 5/2.\n",
    "marge_factor = -3\n",
    "\n",
    "detention = 208\n",
    "hair = 232\n",
    "homer_daily_consume = -12\n",
    "\n",
    "stash += detention*bart_factor + hair*marge_factor + homer_daily_consume*7\n",
    "print stash"
   ]
  },
  {
   "cell_type": "code",
   "execution_count": null,
   "metadata": {},
   "outputs": [],
   "source": []
  }
 ],
 "metadata": {
  "kernelspec": {
   "display_name": "Python 2",
   "language": "python",
   "name": "python2"
  },
  "language_info": {
   "codemirror_mode": {
    "name": "ipython",
    "version": 2
   },
   "file_extension": ".py",
   "mimetype": "text/x-python",
   "name": "python",
   "nbconvert_exporter": "python",
   "pygments_lexer": "ipython2",
   "version": "2.7.16"
  }
 },
 "nbformat": 4,
 "nbformat_minor": 2
}
