{
 "cells": [
  {
   "cell_type": "markdown",
   "metadata": {},
   "source": [
    "# Loops"
   ]
  },
  {
   "cell_type": "markdown",
   "metadata": {},
   "source": [
    "Loops are an essential part of Python. They are incredibly useful and fun. In this notebook, you will use previously learned **data types**, **conditionals**, and **lists** to become a master of loops (See, it's all coming together). \n",
    "### Types of Loops\n",
    "There 2 types of loops in Python that you will learn today.\n",
    "- for loops\n",
    "- While loops"
   ]
  },
  {
   "cell_type": "markdown",
   "metadata": {},
   "source": [
    "## For Loops"
   ]
  },
  {
   "cell_type": "markdown",
   "metadata": {},
   "source": [
    "This is the general syntax for a for loop\n",
    "```python\n",
    "for var in iterable:\n",
    "    block of code\n",
    "```\n",
    "var can be *any* variable name. You don't have to assign it beforehand, as it gets assigned throughout the loop\n",
    "\n",
    "iterable is any iterable\n",
    "\n",
    "*Note the colon after 'iterable'\n",
    "\n",
    "*Note how the block of code is indented, just like conditionals!\n",
    "\n",
    "**A quick note about iterables**\n",
    "\n",
    "Iterables are objects in Python **that can be indexed**. Some examples that you are familiar with are\n",
    "- Lists\n",
    "- Strings\n",
    "\n",
    "*NOT numbers"
   ]
  },
  {
   "cell_type": "markdown",
   "metadata": {},
   "source": [
    "### What a for loop does\n",
    "(from pythonlikeyoumeanit.com)\n",
    "\n",
    "The for-loop behaves as follows:\n",
    "\n",
    "1. Request the next member of the iterable.\n",
    "2. If the iterable is empty, exit the for-loop without running its body.\n",
    "3. If the iterable did produce a member, assign that member to **var** (if **var** was not previously defined, it becomes defined).\n",
    "4.  Execute the enclosed body of code.\n",
    "5. Go back to the first step \n",
    "\n",
    "Basically,  When the loop starts, the variable is assigned the first item (index 0) of the loop. The code is executed. The variable does not have to be used! When the block of code is executed, the variable gets assigned to the next item in the list. Block of code gets executed. Repeat again and again until the variable has been assigned to every item in the iterable."
   ]
  },
  {
   "cell_type": "code",
   "execution_count": 17,
   "metadata": {},
   "outputs": [
    {
     "name": "stdout",
     "output_type": "stream",
     "text": [
      "bananas\n",
      "apples\n",
      "cherrys\n",
      "watermelons\n"
     ]
    }
   ],
   "source": [
    "## That was a lot of information. Let's see an example.\n",
    "iterable = [\"bananas\",\"apples\",\"cherrys\",\"watermelons\"]\n",
    "for i in iterable:\n",
    "    print i\n",
    "\n",
    "#What do you think this will print?"
   ]
  },
  {
   "cell_type": "code",
   "execution_count": 16,
   "metadata": {},
   "outputs": [],
   "source": [
    "iterable = []\n",
    "for i in iterable:\n",
    "    print \"THE ITERABLE IS EMPTY SO THIS WON'T EVEN BR PRINTED\"\n",
    "    print i\n",
    "\n",
    "#What about this?"
   ]
  },
  {
   "cell_type": "code",
   "execution_count": null,
   "metadata": {},
   "outputs": [],
   "source": [
    "## Of course, the block of code can be more than just 'print'\n",
    "# This for loop will iterate through the numbers and add them to the total\n",
    "nums = [1,23,-5,6]\n",
    "total = 0\n",
    "for i in nums:\n",
    "    total += i     #recall that this is shorthand for total = total + i\n",
    "    print total\n",
    "\n",
    "print \"the final total is \" + str(total)"
   ]
  },
  {
   "cell_type": "markdown",
   "metadata": {},
   "source": [
    "Is the following statement true or false?\n",
    "The for loop always loops (the length of the iterable) times.\n",
    "\n",
    "Discuss with the people next to you."
   ]
  },
  {
   "cell_type": "markdown",
   "metadata": {},
   "source": [
    "### The range generator\n",
    "`range` magically generates a list of numbers. It's an iterable, so you can use it in for loops.\n",
    "\n",
    "The syntax is: `range(start_of_list, end_of_list)`"
   ]
  },
  {
   "cell_type": "code",
   "execution_count": 18,
   "metadata": {},
   "outputs": [
    {
     "name": "stdout",
     "output_type": "stream",
     "text": [
      "[0, 1, 2, 3, 4, 5, 6, 7, 8, 9]\n"
     ]
    }
   ],
   "source": [
    "print range(0,10)"
   ]
  },
  {
   "cell_type": "markdown",
   "metadata": {},
   "source": [
    "Cool, right? Note how the list starts at 0 and ends at **9**, not 10. The end of the generated list is going to be one less than what you input into `range`."
   ]
  },
  {
   "cell_type": "code",
   "execution_count": 19,
   "metadata": {},
   "outputs": [
    {
     "name": "stdout",
     "output_type": "stream",
     "text": [
      "[0, 1, 2, 3, 4, 5, 6, 7, 8, 9]\n"
     ]
    }
   ],
   "source": [
    "print range(10)"
   ]
  },
  {
   "cell_type": "markdown",
   "metadata": {},
   "source": [
    "Note how this returns the same thing. The first number in `range` can ignored and defaults to 0"
   ]
  },
  {
   "cell_type": "code",
   "execution_count": 20,
   "metadata": {},
   "outputs": [
    {
     "name": "stdout",
     "output_type": "stream",
     "text": [
      "5\n",
      "6\n",
      "7\n",
      "8\n",
      "9\n",
      "10\n",
      "11\n",
      "12\n",
      "13\n",
      "14\n",
      "15\n",
      "16\n",
      "17\n",
      "18\n",
      "19\n"
     ]
    }
   ],
   "source": [
    "## Now, try putting this into a for loop! Print integers from 5-19\n",
    "for i in range(5,20):\n",
    "    print i\n"
   ]
  },
  {
   "cell_type": "markdown",
   "metadata": {},
   "source": [
    "range is incredibly useful when you just want to run the block of code x amount of times"
   ]
  },
  {
   "cell_type": "code",
   "execution_count": 27,
   "metadata": {},
   "outputs": [
    {
     "name": "stdout",
     "output_type": "stream",
     "text": [
      "stuff printed 1 times\n",
      "stuff printed 2 times\n",
      "stuff printed 3 times\n",
      "stuff printed 4 times\n",
      "stuff printed 5 times\n"
     ]
    }
   ],
   "source": [
    "num = 5\n",
    "for i in range(1,num+1):      #why do I do this? Talk to your neighbors about why. Or ask. \n",
    "    print \"stuff printed \" + str(i) + \" times\" \n",
    "    \n",
    "    "
   ]
  },
  {
   "cell_type": "markdown",
   "metadata": {},
   "source": [
    "Of course, you can put conditionals inside of loops. (hint: also conditionals inside of conditionals!)\n",
    "\n",
    "Notice the grammatiacal error in the above code? \"times\" should be singular (1 time instead of 1 times).\n",
    "Try fixing the above code so that it says (time) in the right place!"
   ]
  },
  {
   "cell_type": "code",
   "execution_count": 15,
   "metadata": {},
   "outputs": [
    {
     "name": "stdout",
     "output_type": "stream",
     "text": [
      "stuff printed 1 time\n",
      "stuff printed 2 times\n",
      "stuff printed 3 times\n",
      "stuff printed 4 times\n",
      "stuff printed 5 times\n"
     ]
    }
   ],
   "source": [
    "## A similar exercise: iterate and print the odd numbers from 50-100, unless the number is 69.\n",
    "num = 5\n",
    "for i in range(1,num+1):      #why do I do this? Talk to your neighbors about why. Or ask. \n",
    "    if i ==1:\n",
    "        print \"stuff printed 1 time\"\n",
    "    else:\n",
    "        print \"stuff printed \" + str(i) + \" times\" \n",
    "    \n"
   ]
  },
  {
   "cell_type": "markdown",
   "metadata": {},
   "source": [
    "Bonus question!!!!!! Recall how you can multiply strings?"
   ]
  },
  {
   "cell_type": "code",
   "execution_count": 28,
   "metadata": {},
   "outputs": [
    {
     "name": "stdout",
     "output_type": "stream",
     "text": [
      "hi hi hi hi hi hi hi hi hi hi \n"
     ]
    }
   ],
   "source": [
    "print \"hi \" * 10"
   ]
  },
  {
   "cell_type": "markdown",
   "metadata": {},
   "source": [
    "Try printing a **10 step staircase** with the minus/dash! Like this:\n",
    "```\n",
    "-\n",
    "--\n",
    "---\n",
    "----\n",
    "-----\n",
    "------\n",
    "-------\n",
    "--------\n",
    "---------\n",
    "----------```"
   ]
  },
  {
   "cell_type": "code",
   "execution_count": 14,
   "metadata": {},
   "outputs": [
    {
     "name": "stdout",
     "output_type": "stream",
     "text": [
      "-\n",
      "--\n",
      "---\n",
      "----\n",
      "-----\n",
      "------\n",
      "-------\n",
      "--------\n",
      "---------\n",
      "----------\n"
     ]
    }
   ],
   "source": [
    "## Your code here\n",
    "for i in range(1,11):\n",
    "    print \"-\"*i\n",
    "\n"
   ]
  },
  {
   "cell_type": "markdown",
   "metadata": {},
   "source": [
    "## While Loops\n",
    "While for loops are great (see what I did there), while loops have their own specialty. A while loop allows you to run a block of code until a condition is no longer true. The general syntax is very simple:\n",
    "```python\n",
    "while condition:\n",
    "    block of code\n",
    "```\n",
    "adapted from pythonlikeyoumeanit.com"
   ]
  },
  {
   "cell_type": "markdown",
   "metadata": {},
   "source": [
    "The **condition** is an expression that is either `True` or `False`. If the condition is `True`: the block of code runs again and again until the condition is `False` - Python will exit that loop and continue with your program. If the condition is `False` to begin with, the block will not be executed."
   ]
  },
  {
   "cell_type": "code",
   "execution_count": 13,
   "metadata": {},
   "outputs": [
    {
     "name": "stdout",
     "output_type": "stream",
     "text": [
      "there are 10 left\n",
      "there are 9 left\n",
      "there are 8 left\n",
      "there are 7 left\n",
      "there are 6 left\n",
      "there are 5 left\n",
      "there are 4 left\n",
      "there are 3 left\n",
      "there are 2 left\n",
      "there are 1 left\n",
      "only 0 remain\n"
     ]
    }
   ],
   "source": [
    "apples = 10\n",
    "while apples > 0:    #note how (apples > 0) is True! \n",
    "    print \"there are \" + str(apples) + \" left\"\n",
    "    apples -= 1      #1 is subtracted from the amount of apples. Consider it a harvest\n",
    "\n",
    "#The program is saying that: as long as there are more than 0 apples (apples>0), I will subtract 1 apple from the stack.\n",
    "#Before running, guess how many apples wil remain?\n",
    "    \n",
    "print \"only \" + str(apples) + \" remain\""
   ]
  },
  {
   "cell_type": "markdown",
   "metadata": {},
   "source": [
    "Never underestimate the power of exponents. 2 to what power is 2048? Use a while loop."
   ]
  },
  {
   "cell_type": "code",
   "execution_count": 12,
   "metadata": {},
   "outputs": [
    {
     "name": "stdout",
     "output_type": "stream",
     "text": [
      "11\n"
     ]
    }
   ],
   "source": [
    "## Your code here\n",
    "result = 0\n",
    "power = 0\n",
    "while result != 2048:\n",
    "    power += 1\n",
    "    result = 2**power\n",
    "\n",
    "print power\n",
    "\n"
   ]
  },
  {
   "cell_type": "markdown",
   "metadata": {},
   "source": [
    "Now, I know what you're thinking. What if the **condition** is always `True`?\n",
    "```python\n",
    "while True:\n",
    "    print \"INFINITE PRINTS\"\n",
    "```\n",
    "Well, Python will loop the block of code over and over again until you terminate the program. The `while True` loop is sometimes used in programs with the operator `break` (which breaks from the loop). We haven't learned that yet so don't try this on your computer! "
   ]
  },
  {
   "cell_type": "markdown",
   "metadata": {},
   "source": [
    "### Nested Loops\n",
    "You can put loops inside of loops! This is called nested loops.\n",
    "```python\n",
    "for i in iterable_1:\n",
    "    for j in iterable_2:\n",
    "        #do stuff here\n",
    "\n",
    "#an example\n",
    "for word in sentence:\n",
    "    for letter in word:\n",
    "        print letter\n",
    "```\n",
    "Of course, you can do the same with while loops\n",
    "```python\n",
    "while cond:\n",
    "    while cond:\n",
    "        #do stuff here\n",
    "```\n",
    "Also, for loops inside of while loops and vice versa\n",
    "```python \n",
    "while cond:\n",
    "    for i in iterable:\n",
    "        # do stuff\n",
    "```\n",
    "#### The takeaway:\n",
    "You can put anything inside of anything. Also loops inside of conditionals, conditionals inside of loops."
   ]
  },
  {
   "cell_type": "markdown",
   "metadata": {},
   "source": [
    "## Labs"
   ]
  },
  {
   "cell_type": "markdown",
   "metadata": {},
   "source": [
    "Cool Calvin needs to print out every number between 1 and 10 (including 1 and 10) 10 times. Each number should be on its own line with a space between each different number."
   ]
  },
  {
   "cell_type": "code",
   "execution_count": 24,
   "metadata": {},
   "outputs": [
    {
     "name": "stdout",
     "output_type": "stream",
     "text": [
      "1 1 1 1 1 1 1 1 1 1 \n",
      "2 2 2 2 2 2 2 2 2 2 \n",
      "3 3 3 3 3 3 3 3 3 3 \n",
      "4 4 4 4 4 4 4 4 4 4 \n",
      "5 5 5 5 5 5 5 5 5 5 \n",
      "6 6 6 6 6 6 6 6 6 6 \n",
      "7 7 7 7 7 7 7 7 7 7 \n",
      "8 8 8 8 8 8 8 8 8 8 \n",
      "9 9 9 9 9 9 9 9 9 9 \n",
      "10 10 10 10 10 10 10 10 10 10 \n"
     ]
    }
   ],
   "source": [
    "# Write your code in here\n",
    "for i in range(1,11):\n",
    "    print (str(i) + \" \")*10\n"
   ]
  },
  {
   "cell_type": "markdown",
   "metadata": {},
   "source": [
    "Roger Rabbit needs you to fizzbuzz. Fizzbuzz is something that you might have done in math class before, but it is when you print \"fizz\" if a number is divisible by 3, \"buzz\" when a number is divisible by 5, and \"fizzbuzz\" when a number is divisble by 15. If a number is not divisble by any of those, print out the number. Fizzbuzz for all the numbers between 1 and 100 (including 1 and a 100)."
   ]
  },
  {
   "cell_type": "code",
   "execution_count": 22,
   "metadata": {},
   "outputs": [
    {
     "name": "stdout",
     "output_type": "stream",
     "text": [
      "1\n",
      "2\n",
      "fizz\n",
      "4\n",
      "buzz\n",
      "fizz\n",
      "7\n",
      "8\n",
      "fizz\n",
      "buzz\n",
      "11\n",
      "fizz\n",
      "13\n",
      "14\n",
      "fizzbuzz\n",
      "16\n",
      "17\n",
      "fizz\n",
      "19\n",
      "buzz\n",
      "fizz\n",
      "22\n",
      "23\n",
      "fizz\n",
      "buzz\n",
      "26\n",
      "fizz\n",
      "28\n",
      "29\n",
      "fizzbuzz\n",
      "31\n",
      "32\n",
      "fizz\n",
      "34\n",
      "buzz\n",
      "fizz\n",
      "37\n",
      "38\n",
      "fizz\n",
      "buzz\n",
      "41\n",
      "fizz\n",
      "43\n",
      "44\n",
      "fizzbuzz\n",
      "46\n",
      "47\n",
      "fizz\n",
      "49\n",
      "buzz\n",
      "fizz\n",
      "52\n",
      "53\n",
      "fizz\n",
      "buzz\n",
      "56\n",
      "fizz\n",
      "58\n",
      "59\n",
      "fizzbuzz\n",
      "61\n",
      "62\n",
      "fizz\n",
      "64\n",
      "buzz\n",
      "fizz\n",
      "67\n",
      "68\n",
      "fizz\n",
      "buzz\n",
      "71\n",
      "fizz\n",
      "73\n",
      "74\n",
      "fizzbuzz\n",
      "76\n",
      "77\n",
      "fizz\n",
      "79\n",
      "buzz\n",
      "fizz\n",
      "82\n",
      "83\n",
      "fizz\n",
      "buzz\n",
      "86\n",
      "fizz\n",
      "88\n",
      "89\n",
      "fizzbuzz\n",
      "91\n",
      "92\n",
      "fizz\n",
      "94\n",
      "buzz\n",
      "fizz\n",
      "97\n",
      "98\n",
      "fizz\n",
      "buzz\n"
     ]
    }
   ],
   "source": [
    "# Write your code in here\n",
    "for i in range(1,101):\n",
    "    if i%15==0:\n",
    "        print \"fizzbuzz\"\n",
    "    elif i%5==0:\n",
    "        print \"buzz\"\n",
    "    elif i%3==0:\n",
    "        print \"fizz\"\n",
    "    else:\n",
    "        print i\n",
    "        \n",
    "\n"
   ]
  },
  {
   "cell_type": "markdown",
   "metadata": {},
   "source": [
    "Jimmy Joe received 5 texts from his cousin, John Doe. He wants to count the number of vowels in each of the texts. Your answer will be a list containing 5 integers, denoting the number of vowels in each message. Like this -> `[#vowels in msg1,#vowels in msg2,#msg3,#msg4,#msg5]`\n",
    "\n",
    "Recall the information from the last notebook? You will need to index lists! Good luck."
   ]
  },
  {
   "cell_type": "code",
   "execution_count": 8,
   "metadata": {},
   "outputs": [
    {
     "name": "stdout",
     "output_type": "stream",
     "text": [
      "[5, 25, 8, 40, 17]\n"
     ]
    }
   ],
   "source": [
    "## The texts are retrived from the messages server and put into a list\n",
    "texts = [\"hows it going jimmy\",\n",
    "         \"yo I was playing fortnite the other day with my friend josef and we landed in tilted towers\",\n",
    "         \"it was really lit but we lost\",\n",
    "         \"also did you know that you can put a loop inside a loop inside a loop inside a loop inside a loop in python?\",\n",
    "         \"that is basically what artificial intelligence is\"]\n",
    "\n",
    "vowels = \"aeiou\"\n",
    "counts = [0,0,0,0,0]\n",
    "iteration = 0\n",
    "\n",
    "## your code below! \n",
    "for msg in texts:\n",
    "    for char in msg:\n",
    "        if char in vowels:\n",
    "            counts[iteration] += 1\n",
    "    iteration += 1\n",
    "\n",
    "print counts\n",
    "            \n"
   ]
  },
  {
   "cell_type": "markdown",
   "metadata": {},
   "source": [
    "**Let's make a number guessing game with a while loop!** Python will generate a random number between 0 and 50, and you will guess a number and type it into the program. If the number you guessed is too high or too low, the program will tell you. The loop will loop over and over until you guess the number. At the very end, the program will print how many tries it took you. \n",
    "\n",
    "Because there are some concepts you haven't learned yet, I'll help you out a little. This is a challenging lab so feel free to ask us for help!"
   ]
  },
  {
   "cell_type": "code",
   "execution_count": 5,
   "metadata": {},
   "outputs": [
    {
     "name": "stdout",
     "output_type": "stream",
     "text": [
      "enter your guess! (must be an integer)25\n",
      "Your guess is too low!\n",
      "enter your guess! (must be an integer)37\n",
      "Your guess is too high!\n",
      "enter your guess! (must be an integer)28\n",
      "Your guess is too low!\n",
      "enter your guess! (must be an integer)29\n",
      "Your guess is too low!\n",
      "enter your guess! (must be an integer)30\n",
      "Your guess is too low!\n",
      "enter your guess! (must be an integer)35\n",
      "Your guess is too high!\n",
      "enter your guess! (must be an integer)33\n",
      "Your guess is too low!\n",
      "enter your guess! (must be an integer)34\n",
      "Nice job! The number is 34. It took you 8 tries!\n"
     ]
    }
   ],
   "source": [
    "## Your code here\n",
    "from random import randint     #imports a function that will generate a random integer\n",
    "random_num = randint(0,50) #generates a random number between 0-50\n",
    "\n",
    "#Declare some variables yourself outside the loop!\n",
    "tries = 0\n",
    "\n",
    "#The while loop: you have to fill in the condition\n",
    "while True:\n",
    "    guess = int(input(\"enter your guess! (must be an integer)\"))    #your guess is assigned to 'guess' as an integer\n",
    "    #Your code here!\n",
    "    tries += 1\n",
    "    if guess > random_num:\n",
    "        print \"Your guess is too high!\"\n",
    "    elif guess < random_num:\n",
    "        print \"Your guess is too low!\"\n",
    "    else:\n",
    "        break\n",
    "\n",
    "\n",
    "print \"Nice job! The number is \" + str(random_num) + \". It took you \" + str(tries) + \" tries!\"\n",
    "    "
   ]
  },
  {
   "cell_type": "code",
   "execution_count": null,
   "metadata": {},
   "outputs": [],
   "source": []
  }
 ],
 "metadata": {
  "kernelspec": {
   "display_name": "Python 2",
   "language": "python",
   "name": "python2"
  },
  "language_info": {
   "codemirror_mode": {
    "name": "ipython",
    "version": 2
   },
   "file_extension": ".py",
   "mimetype": "text/x-python",
   "name": "python",
   "nbconvert_exporter": "python",
   "pygments_lexer": "ipython2",
   "version": "2.7.15"
  }
 },
 "nbformat": 4,
 "nbformat_minor": 2
}
