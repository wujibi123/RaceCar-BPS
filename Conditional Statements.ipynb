{
 "cells": [
  {
   "cell_type": "markdown",
   "metadata": {},
   "source": [
    "## Conditional Statements"
   ]
  },
  {
   "cell_type": "markdown",
   "metadata": {},
   "source": [
    "In this section, you will learn to use the `if`, `else`, and `elif` statements. These allow you to execute blocks of code if a specified condition is found to be true, or execute alternate code if the condition is false. Just as a sneak preview, the code below will add double `n` if it is even, and triple `n` if it is odd."
   ]
  },
  {
   "cell_type": "code",
   "execution_count": null,
   "metadata": {
    "scrolled": false
   },
   "outputs": [],
   "source": [
    "n = ? # Try putting in your own numbers.\n",
    "if n%2 != 0:\n",
    "    n = n * 3\n",
    "else:\n",
    "    n = n * 2\n",
    "    \n",
    "print n"
   ]
  },
  {
   "cell_type": "markdown",
   "metadata": {},
   "source": [
    "Conditional statements evaluates the 'boolean' value of the condition, which are `True` and `False`. You should be famliar with `bool` because it has already been introduced in the data types section. We will teach you two types of conditions, comparison operations and membership checking, that returns a `bool` type."
   ]
  },
  {
   "cell_type": "markdown",
   "metadata": {},
   "source": [
    "#### Comparison Operations"
   ]
  },
  {
   "cell_type": "markdown",
   "metadata": {},
   "source": [
    "There are 8 types of Comparison Operations."
   ]
  },
  {
   "cell_type": "markdown",
   "metadata": {},
   "source": [
    "| Operation|        Meaning        |\n",
    "| ---|:---------------------------:|\n",
    "| `>`  | Greater than              |\n",
    "| `>=` | Greater than or equal     |\n",
    "| `<`  | Less than                 |\n",
    "| `<=` | Less than or equal        |\n",
    "| `==` | Equal                     |\n",
    "| `!=` | Not equal                 |\n",
    "| `is` | object identity           |\n",
    "| `is not`| negated object identity|"
   ]
  },
  {
   "cell_type": "markdown",
   "metadata": {},
   "source": [
    "The first 6 operations are used commonly in mathematics, and they requir no further explanation. However, beware that `==` and `=` are very different. `==` is a comparison, while `=` is used to assign variables. Try running the code block below."
   ]
  },
  {
   "cell_type": "code",
   "execution_count": null,
   "metadata": {},
   "outputs": [],
   "source": [
    "if n = 2:\n",
    "    print \"n is two\"\n",
    "else:\n",
    "    print \"n is not two\""
   ]
  },
  {
   "cell_type": "markdown",
   "metadata": {},
   "source": [
    "You should have recieved an error saying 'invalid syntax'. Now, try running this code block."
   ]
  },
  {
   "cell_type": "code",
   "execution_count": null,
   "metadata": {},
   "outputs": [],
   "source": [
    "if n == 2:\n",
    "    print \"n is two\"\n",
    "else:\n",
    "    print \"n is not two\""
   ]
  },
  {
   "cell_type": "markdown",
   "metadata": {},
   "source": [
    "## I can write about `is` and `is not`, but do they need to know it?. Skipping for now."
   ]
  },
  {
   "cell_type": "markdown",
   "metadata": {},
   "source": [
    "#### Membership Checking"
   ]
  },
  {
   "cell_type": "markdown",
   "metadata": {},
   "source": [
    "There are two operators that check for membership, `in` and `not in`."
   ]
  },
  {
   "cell_type": "markdown",
   "metadata": {},
   "source": [
    "`in` follows the format `variable in sequence`. The operator returns `True` if it finds the variable in the specified sequence, and it returns `False` otherwise. `not in` is the exact opposite of `in`. What do you think the code block below will print out?"
   ]
  },
  {
   "cell_type": "code",
   "execution_count": null,
   "metadata": {},
   "outputs": [],
   "source": [
    "x = 1\n",
    "y = [4, 2, 6, 1] # Feel free to play around and change x or y.\n",
    "\n",
    "print \" 'in' returns: \", x in y, \". 'Not in' returns: \", x not in y"
   ]
  },
  {
   "cell_type": "markdown",
   "metadata": {},
   "source": [
    "### `if`, `else`, and `elif` statements"
   ]
  },
  {
   "cell_type": "markdown",
   "metadata": {},
   "source": [
    "`if`, `else`, and `elif` are simple and powerful conditional statements. This allows our programs to react to a variety of situations and create branches in our code. For instance, in an autonomous racecar, you might want the car to slow down and then stop if it drives too close to a wall. A simplified representation of this feature is this:\n",
    "\n",
    "```python\n",
    "if distance_from_wall < 10:\n",
    "    racecar.break()\n",
    "elif 10 < distance_from_wall < 20:\n",
    "    racecar.slowdown()\n",
    "else:\n",
    "    racecar.drive()\n",
    "```"
   ]
  },
  {
   "cell_type": "markdown",
   "metadata": {},
   "source": [
    "The conditional statements must end with a semicolon `:`, and their blocks of code are separated by white spaces. The following Pseudo code is a general template for conditional statements."
   ]
  },
  {
   "cell_type": "markdown",
   "metadata": {},
   "source": [
    "```python\n",
    "if <expression_1>:\n",
    "    the code within this indented block is executed if..\n",
    "    - <expression_1> is True\n",
    "elif <expression_2>:\n",
    "    the code within this indented block is executed if..\n",
    "     - <expression_1> was False\n",
    "     - <expression_2> is True\n",
    "...\n",
    "...\n",
    "elif <expression_n>:\n",
    "    the code within this indented block is executed if..\n",
    "      - <expression_1> was False\n",
    "      - <expression_2> was False\n",
    "      ...\n",
    "      ...\n",
    "      - <expression_n-1> was False\n",
    "      - <expression_n> is True\n",
    "else:\n",
    "    the code within this indented block is executed only if\n",
    "    all preceding expressions were False\n",
    "```\n",
    "   (_Based on_ [_Python Like You Mean It_](https://www.pythonlikeyoumeanit.com/Module2_EssentialsOfPython/ConditionalStatements.html))"
   ]
  },
  {
   "cell_type": "markdown",
   "metadata": {},
   "source": [
    "## Give more exmaples. Consecutive if statements (Independent) vs if-else-elif(only one executed). Probably not gonna teach them inline if statements."
   ]
  },
  {
   "cell_type": "markdown",
   "metadata": {},
   "source": [
    "## Need more \"What would this code block do\""
   ]
  }
 ],
 "metadata": {
  "kernelspec": {
   "display_name": "Python 2",
   "language": "python",
   "name": "python2"
  },
  "language_info": {
   "codemirror_mode": {
    "name": "ipython",
    "version": 2
   },
   "file_extension": ".py",
   "mimetype": "text/x-python",
   "name": "python",
   "nbconvert_exporter": "python",
   "pygments_lexer": "ipython2",
   "version": "2.7.16"
  }
 },
 "nbformat": 4,
 "nbformat_minor": 2
}
