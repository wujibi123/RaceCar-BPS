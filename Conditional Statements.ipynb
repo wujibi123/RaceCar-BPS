{
 "cells": [
  {
   "cell_type": "markdown",
   "metadata": {},
   "source": [
    "## Conditional Statements"
   ]
  },
  {
   "cell_type": "markdown",
   "metadata": {},
   "source": [
    "In this section, you will learn to use the `if`, `else`, and `elif` statements. These allow you to execute blocks of code if a specified condition is found to be true, or execute alternate code if the condition is false. Just as a sneak preview, the code below will add double `n` if it is even, and triple `n` if it is odd."
   ]
  },
  {
   "cell_type": "code",
   "execution_count": null,
   "metadata": {
    "scrolled": false
   },
   "outputs": [],
   "source": [
    "n = raw_input(\"Enter a number: \") #input() returns your keyboard inputs\n",
    "n = float(n) #Makes n a float\n",
    "\n",
    "if n%2 != 0:\n",
    "    n = n * 3\n",
    "else:\n",
    "    n = n * 2\n",
    "\n",
    "print n"
   ]
  },
  {
   "cell_type": "markdown",
   "metadata": {},
   "source": [
    "Conditional statements evaluates the 'boolean' value of the condition, which are `True` and `False`. You should be famliar with `bool` because it has already been introduced in the data types section. We will teach you two types of conditions, comparison operations and membership checking, that returns a `bool` type."
   ]
  },
  {
   "cell_type": "markdown",
   "metadata": {},
   "source": [
    "#### Comparison Operations"
   ]
  },
  {
   "cell_type": "markdown",
   "metadata": {},
   "source": [
    "There are 8 types of Comparison Operations."
   ]
  },
  {
   "cell_type": "markdown",
   "metadata": {},
   "source": [
    "| Operation|        Meaning        |\n",
    "| ---|:---------------------------:|\n",
    "| `>`  | Greater than              |\n",
    "| `>=` | Greater than or equal     |\n",
    "| `<`  | Less than                 |\n",
    "| `<=` | Less than or equal        |\n",
    "| `==` | Equal                     |\n",
    "| `!=` | Not equal                 |"
   ]
  },
  {
   "cell_type": "markdown",
   "metadata": {},
   "source": [
    "The 6 operations are used commonly in mathematics, and they requir no further explanation. The inequalities have been touched upon in the previous section, and this is an extension of it. However, beware that `==` and `=` are very different. `==` is a comparison, while `=` is used to assign variables. Try running the code block below."
   ]
  },
  {
   "cell_type": "code",
   "execution_count": null,
   "metadata": {},
   "outputs": [],
   "source": [
    "n = 2\n",
    "if n = 2:\n",
    "    print \"n is two\"\n",
    "else:\n",
    "    print \"n is not two\""
   ]
  },
  {
   "cell_type": "markdown",
   "metadata": {},
   "source": [
    "You should have recieved an error saying 'invalid syntax'. Now, try running this code block."
   ]
  },
  {
   "cell_type": "code",
   "execution_count": null,
   "metadata": {},
   "outputs": [],
   "source": [
    "n = 3\n",
    "if n == 2:\n",
    "    print \"n is two\"\n",
    "else:\n",
    "    print \"n is not two\""
   ]
  },
  {
   "cell_type": "markdown",
   "metadata": {},
   "source": [
    "#### Membership Checking (Zach delete this section after you take it)"
   ]
  },
  {
   "cell_type": "markdown",
   "metadata": {},
   "source": [
    "There are two operators that check for membership, `in` and `not in`."
   ]
  },
  {
   "cell_type": "markdown",
   "metadata": {},
   "source": [
    "`in` follows the format `variable in sequence`. The operator returns `True` if it finds the variable in the specified sequence, and it returns `False` otherwise. `not in` is the exact opposite of `in`. What do you think the code block below will print out?"
   ]
  },
  {
   "cell_type": "code",
   "execution_count": null,
   "metadata": {},
   "outputs": [],
   "source": [
    "x = 1\n",
    "y = [4, 2, 6, 1] # Feel free to play around and change x or y.\n",
    "\n",
    "print \" 'in' returns: \", x in y, \". 'Not in' returns: \", x not in y"
   ]
  },
  {
   "cell_type": "markdown",
   "metadata": {},
   "source": [
    "#### Boolean Operations"
   ]
  },
  {
   "cell_type": "markdown",
   "metadata": {},
   "source": [
    "Boolean operations extend the uses of comparison operations and membership checking. There are three types boolean operations, and they are `and`, `or`, and `not`."
   ]
  },
  {
   "cell_type": "markdown",
   "metadata": {},
   "source": [
    "`and` follows the format `<bool> and <bool>`. If both booleans are `True`, then `and` returns `True`. "
   ]
  },
  {
   "cell_type": "code",
   "execution_count": null,
   "metadata": {},
   "outputs": [],
   "source": [
    "print (1 < 2) and (3 == 3) # Both True\n",
    "print (1 == 1) and (0 > 3) # Left is True, right is False\n",
    "print (1 == \"1\") and (0b1000101 == \"Binary\") # Both False"
   ]
  },
  {
   "cell_type": "markdown",
   "metadata": {},
   "source": [
    "`or` follows the format `<bool> or <bool>`. If just one of the booleans are `True`, then `or` returns `True`. `or` returns `False` only if both booleans are `False`."
   ]
  },
  {
   "cell_type": "code",
   "execution_count": null,
   "metadata": {},
   "outputs": [],
   "source": [
    "print (1 < 2) or (3 == 3) # Both True\n",
    "print (1 == 1) or (0 > 3) # Left is True, right is False\n",
    "print (\"CompSci\" == \"Cool\") or (\"PythonLike\" == \"YouMeanIt\") # Both False"
   ]
  },
  {
   "cell_type": "markdown",
   "metadata": {},
   "source": [
    "`not` follows the format `not <bool>`. `not` returns `False` if the boolean is `True`, and vice versa."
   ]
  },
  {
   "cell_type": "code",
   "execution_count": null,
   "metadata": {},
   "outputs": [],
   "source": [
    "print not False\n",
    "print not True\n",
    "print not (3 in [0, 'Python', 5, 2, \"Like\", 10, \"You\", 387, 4, \"Mean\", 10, \"it\", 29])"
   ]
  },
  {
   "cell_type": "markdown",
   "metadata": {},
   "source": [
    "### `if`, `else`, and `elif` statements"
   ]
  },
  {
   "cell_type": "markdown",
   "metadata": {},
   "source": [
    "`if`, `else`, and `elif` are simple and powerful conditional statements. This allows our programs to react to a variety of situations and create branches in our code. For instance, in an autonomous racecar, you might want the car to slow down and then stop if it drives too close to a wall. A simplified representation of this feature is this:\n",
    "\n",
    "```python\n",
    "if distance_from_wall < 10:\n",
    "    racecar.break()\n",
    "elif 10 < distance_from_wall < 20:\n",
    "    racecar.slowdown()\n",
    "else:\n",
    "    racecar.drive()\n",
    "```"
   ]
  },
  {
   "cell_type": "markdown",
   "metadata": {},
   "source": [
    "The conditional statements must end with a semicolon `:`, and their blocks of code are separated by white spaces. The following Pseudo code is a general template for conditional statements."
   ]
  },
  {
   "cell_type": "markdown",
   "metadata": {},
   "source": [
    "```python\n",
    "if <expression_1>:\n",
    "    the code within this indented block is executed if..\n",
    "    - <expression_1> is True\n",
    "elif <expression_2>:\n",
    "    the code within this indented block is executed if..\n",
    "     - <expression_1> was False\n",
    "     - <expression_2> is True\n",
    "...\n",
    "...\n",
    "elif <expression_n>:\n",
    "    the code within this indented block is executed if..\n",
    "      - <expression_1> was False\n",
    "      - <expression_2> was False\n",
    "      ...\n",
    "      ...\n",
    "      - <expression_n-1> was False\n",
    "      - <expression_n> is True\n",
    "else:\n",
    "    the code within this indented block is executed only if\n",
    "    all preceding expressions were False\n",
    "```\n",
    "   (_Based on_ [_Python Like You Mean It_](https://www.pythonlikeyoumeanit.com/Module2_EssentialsOfPython/ConditionalStatements.html))"
   ]
  },
  {
   "cell_type": "markdown",
   "metadata": {},
   "source": [
    "The minimum requirment for a conditional statement is a single `if` statement. `elif` and `else` can then be independently added on to the statement. We will use a single `if` statement to determine if a number, x, is greater than 10."
   ]
  },
  {
   "cell_type": "code",
   "execution_count": null,
   "metadata": {},
   "outputs": [],
   "source": [
    "x = raw_input(\"Enter a number: \")\n",
    "x = float(x)\n",
    "\n",
    "if x > 10:\n",
    "    print \"x is greater than 10\""
   ]
  },
  {
   "cell_type": "markdown",
   "metadata": {},
   "source": [
    "Note that no action is taken if x is less than or equal to 10 because there are no `elif` or `else` statements to deal with the negative boolean. We will add an `else` statement to the code so that it replies when x is under 11."
   ]
  },
  {
   "cell_type": "code",
   "execution_count": null,
   "metadata": {},
   "outputs": [],
   "source": [
    "x = raw_input(\"Enter a number: \")\n",
    "x = float(x)\n",
    "\n",
    "if x > 10:\n",
    "    print \"x is greater than 10\"\n",
    "else:\n",
    "    print \"x is less than or equal to 10\""
   ]
  },
  {
   "cell_type": "markdown",
   "metadata": {},
   "source": [
    "This verison is definetly an improvement, but what if x is exactly 10? The script wouldn't be able to tell if x is under 10 equal to 10. We will use an `elif` statement to add this feature."
   ]
  },
  {
   "cell_type": "code",
   "execution_count": null,
   "metadata": {},
   "outputs": [],
   "source": [
    "x = raw_input(\"Enter a number: \")\n",
    "x = float(x)\n",
    "\n",
    "if x > 10:\n",
    "    print \"x is greater than 10\"\n",
    "elif x == 10: #Remember the difference between '==' and '='!\n",
    "    print \"x is equal to 10\"\n",
    "else:\n",
    "    print \"x is less than 10\""
   ]
  },
  {
   "cell_type": "markdown",
   "metadata": {},
   "source": [
    "What if x is not an integer? We will use **nested `if` statements** to check if x is an integer."
   ]
  },
  {
   "cell_type": "code",
   "execution_count": null,
   "metadata": {},
   "outputs": [],
   "source": [
    "x = raw_input(\"Enter a number: \")\n",
    "x = float(x)\n",
    "\n",
    "if isinstance(x, float): # Checks if x is a floating point number\n",
    "    if x > 10:\n",
    "        print \"x is greater than 10\"\n",
    "    elif x == 10:\n",
    "        print \"x is equal to 10\"\n",
    "    else:\n",
    "        print \"x is less than 10\"\n",
    "else:\n",
    "    print \"x is not an floating point number, it is \", type(x), \"so it can not be compared.\""
   ]
  },
  {
   "cell_type": "markdown",
   "metadata": {},
   "source": [
    "A nested `if` is an `if` statement that is the target of another `if` statement. Nested `if` statements means an `if` statement is inside another `if` statement. The nested `if` statement is part of the code block of the superior `if` statement."
   ]
  },
  {
   "cell_type": "markdown",
   "metadata": {},
   "source": [
    "Note than only one block of code within a conditional statement is executed. Only one out of the `if`, `elif`, and `else` code blocks are ran. However, multiple condional statements, as in mulptiple `if` statements, are independent from one another."
   ]
  },
  {
   "cell_type": "code",
   "execution_count": null,
   "metadata": {},
   "outputs": [],
   "source": [
    "x = raw_input(\"Enter a number: \")\n",
    "x = float(x)\n",
    "\n",
    "if x > 10:\n",
    "    print \"x is greater than 10\"\n",
    "\n",
    "if x > 5:\n",
    "    print \"x is greater than 5\"\n",
    "    \n",
    "if x < 100:\n",
    "    print \"x is less than 100\""
   ]
  },
  {
   "cell_type": "markdown",
   "metadata": {},
   "source": [
    "### Excercises"
   ]
  },
  {
   "cell_type": "markdown",
   "metadata": {},
   "source": [
    "Time to put your new knowledge into use by trying the cigar party problem."
   ]
  },
  {
   "cell_type": "markdown",
   "metadata": {},
   "source": [
    "When squirrels get together for a party, they like to have cigars. A squirrel party is successful when the number of cigars is between 40 and 60, inclusive. Unless it is the weekend, in which case there is no upper bound on the number of cigars. Print `True` if the party with the given values is successful, or `False` otherwise."
   ]
  },
  {
   "cell_type": "code",
   "execution_count": null,
   "metadata": {},
   "outputs": [],
   "source": [
    "def cigar_party(cigars, is_weekend): \n",
    "    #This is a function, it will be covered later. For now, just know that you are given two variables \n",
    "    #to start with, cigars and is_weekend.\n",
    "    #cigars is an integer, is_weekend is a boolean\n",
    "    \n",
    "    #Student code here. Make sure it is indented(Makes it part of the function)."
   ]
  },
  {
   "cell_type": "code",
   "execution_count": null,
   "metadata": {},
   "outputs": [],
   "source": [
    "cigars = 0 #number of cigars\n",
    "is_weekend = True #If it is the weekend. True means yes, False means no.\n",
    "#The output should be a boolean.\n",
    "\n",
    "#Student code here. Change around cigars and is_weekend to check if your code is correct."
   ]
  },
  {
   "cell_type": "markdown",
   "metadata": {},
   "source": [
    "## I wrote two versions of the lab. one with functions one without. Leaning towards the second one because they haven't learnt functions at this point"
   ]
  },
  {
   "cell_type": "markdown",
   "metadata": {},
   "source": [
    "#### Solution(Should i just put this at the end? Any suggestions on how to hide this?) Also two solutions(corresponds to the two version s above)"
   ]
  },
  {
   "cell_type": "code",
   "execution_count": null,
   "metadata": {},
   "outputs": [],
   "source": [
    "def cigar_party(cigars, is_weekend):\n",
    "  if is_weekend:\n",
    "    return cigars >= 40\n",
    "  else:\n",
    "    return cigars >= 40 and cigars <= 60"
   ]
  },
  {
   "cell_type": "code",
   "execution_count": null,
   "metadata": {},
   "outputs": [],
   "source": [
    "cigars = 40\n",
    "is_weekend = True\n",
    "\n",
    "if is_weekend:\n",
    "    print cigars >= 40\n",
    "else:\n",
    "    print cigars >= 40 and cigars <= 60"
   ]
  }
 ],
 "metadata": {
  "kernelspec": {
   "display_name": "Python 2",
   "language": "python",
   "name": "python2"
  },
  "language_info": {
   "codemirror_mode": {
    "name": "ipython",
    "version": 2
   },
   "file_extension": ".py",
   "mimetype": "text/x-python",
   "name": "python",
   "nbconvert_exporter": "python",
   "pygments_lexer": "ipython2",
   "version": "2.7.16"
  }
 },
 "nbformat": 4,
 "nbformat_minor": 2
}
