{
 "cells": [
  {
   "cell_type": "markdown",
   "metadata": {},
   "source": [
    "# Functions, Lists, and Loops"
   ]
  },
  {
   "cell_type": "markdown",
   "metadata": {},
   "source": [
    "You don't know it right now, but YOU have already been using functions. Look here:"
   ]
  },
  {
   "cell_type": "code",
   "execution_count": null,
   "metadata": {},
   "outputs": [],
   "source": [
    "print(\"Zach is the best\")"
   ]
  },
  {
   "cell_type": "markdown",
   "metadata": {},
   "source": [
    "See? Without even knowing it, you have been using the \"print\" function these past few weeks. Now, why do we use functions? Well, they are good for concisely doing something if you want to do a lot of times. Would you want to type *this* every time you wanted to print something?"
   ]
  },
  {
   "cell_type": "markdown",
   "metadata": {},
   "source": [
    "01101110011001010111011001100101011100100010000001100111011011110110111001101110011000010010000001100111011010010111011001100101001000000111100101101111011101010010000001110101011100000010110000100000011011100110010101110110011001010111001000100000011001110110111101101110011011100110000100100000011011000110010101110100001000000111100101101111011101010010000001100100011011110111011101101110"
   ]
  },
  {
   "cell_type": "markdown",
   "metadata": {},
   "source": [
    "Good answer. \"print\" is a function built into Python, but we are also able to create our own functions, usually for something complicated that you want to do many times. Each function has a name (\"print\"), arguments (whatever you are printing), and a body (the stuff that makes it actually, you know, print). Let's try creating a very useful function (I use this almost every day):"
   ]
  },
  {
   "cell_type": "code",
   "execution_count": null,
   "metadata": {},
   "outputs": [],
   "source": [
    "def add694201337 (number):\n",
    "    sum = number + 694201337\n",
    "    return sum"
   ]
  },
  {
   "cell_type": "markdown",
   "metadata": {},
   "source": [
    "Fantastic! Now we can add our favorite number to any number we put in. Notice the formatting of the code: start with \"def\", then the name of the function, then the names of the arguments in parentheses, then a colon, then on the next line we start the body code. We end with a return statement, which \"gives back\" the result to whatever summoned (called) the function. Let's try that next:"
   ]
  },
  {
   "cell_type": "code",
   "execution_count": null,
   "metadata": {},
   "outputs": [],
   "source": [
    "add694201337(8008135)"
   ]
  },
  {
   "cell_type": "markdown",
   "metadata": {},
   "source": [
    "Looks great! Now let's do something totally unrelated: lists! A list is simply a good way to organize information, sort of like how you use binders to organized all your school materials for various classes. Let's try making one:"
   ]
  },
  {
   "cell_type": "code",
   "execution_count": null,
   "metadata": {},
   "outputs": [],
   "source": [
    "coolKids = [\"Zach\"]"
   ]
  },
  {
   "cell_type": "markdown",
   "metadata": {},
   "source": [
    "Notice how the list has the name \"coolKids\" and includes one object, a String named \"Zach\". We can also include numbers, or a mix of data types:"
   ]
  },
  {
   "cell_type": "code",
   "execution_count": null,
   "metadata": {},
   "outputs": [],
   "source": [
    "legalNumbers = [42, 4761, 80085]\n",
    "legalSeaFoods = [\"fishy\",0,\"delishy\"]"
   ]
  },
  {
   "cell_type": "markdown",
   "metadata": {},
   "source": [
    "If you're feeling extra wild, you can make a list... of lists:"
   ]
  },
  {
   "cell_type": "code",
   "execution_count": null,
   "metadata": {},
   "outputs": [],
   "source": [
    "listception = [[1,2,3,4,5],[2,4,6,8,10],[5,4,3,2,1],[1,3,5,7,9]]"
   ]
  },
  {
   "cell_type": "markdown",
   "metadata": {},
   "source": [
    "We can also add lists to stick them together (end to end):"
   ]
  },
  {
   "cell_type": "code",
   "execution_count": null,
   "metadata": {},
   "outputs": [],
   "source": [
    "legalNumbers + legalSeaFoods"
   ]
  },
  {
   "cell_type": "markdown",
   "metadata": {},
   "source": [
    "Now let's try something new. What if I want the 1st element of a list? Or the second to last? Well..."
   ]
  },
  {
   "cell_type": "code",
   "execution_count": null,
   "metadata": {},
   "outputs": [],
   "source": [
    "legalNumbers[0]\n",
    "legalSeaFoods[-2]"
   ]
  },
  {
   "cell_type": "markdown",
   "metadata": {},
   "source": [
    "Unfortunately for us intelligent sacks of meat, computers count from zero (who thought that was a good idea?), but only on the positive end. So, we have to put n-1 in the square brackets to get the nth element of a list. However, we have to put -n to get the nth to last elements of the list."
   ]
  },
  {
   "cell_type": "markdown",
   "metadata": {},
   "source": [
    "Now, what can we do with all this knowledge of lists? Well, let's try printing all the legal numbers:"
   ]
  },
  {
   "cell_type": "code",
   "execution_count": null,
   "metadata": {},
   "outputs": [],
   "source": [
    "print(legalNumbers[0])\n",
    "print(legalNumbers[1])\n",
    "print(legalNumbers[2])"
   ]
  },
  {
   "cell_type": "markdown",
   "metadata": {},
   "source": [
    "Wow! That unequivocally sucked! Let's never do that ever again! A better way to do that would be if there were a way to have the computer do the same thing over and over again (maybe with a small difference each time). If that were a thing, I would call it a loop. *crackle* Excuse me? That exists? Wow, just my luck! Let's try it out to print all the legal numbers:"
   ]
  },
  {
   "cell_type": "code",
   "execution_count": null,
   "metadata": {},
   "outputs": [],
   "source": [
    "for n in legalNumbers:\n",
    "    print n"
   ]
  },
  {
   "cell_type": "markdown",
   "metadata": {},
   "source": [
    "That worked incredibly well! It's similar to the format of a function, except we have \"n\" the iterating variable, which goes through every element \"in\" the list (and then a colon), and then inside (indented once) we print n, the element in our list. What if we only want to print the first two of our legal numbers? Well, let's try this:"
   ]
  },
  {
   "cell_type": "code",
   "execution_count": null,
   "metadata": {},
   "outputs": [],
   "source": [
    "for n < 2:\n",
    "    print legalNumbers[n]"
   ]
  },
  {
   "cell_type": "markdown",
   "metadata": {},
   "source": [
    "All we did was, instead of counting (iterating) n through the legal numbers, we iterated through the integers less than two (starting with 0). Then, we printed the nth element of the legalNumbers each time."
   ]
  },
  {
   "cell_type": "markdown",
   "metadata": {},
   "source": [
    "And that's it! You now know enough about coding to get into Harvard (if your parents have a couple million dollars to spare for a \"timely donation\"). Good luck!"
   ]
  }
 ],
 "metadata": {
  "kernelspec": {
   "display_name": "Python 3",
   "language": "python",
   "name": "python3"
  },
  "language_info": {
   "codemirror_mode": {
    "name": "ipython",
    "version": 3
   },
   "file_extension": ".py",
   "mimetype": "text/x-python",
   "name": "python",
   "nbconvert_exporter": "python",
   "pygments_lexer": "ipython3",
   "version": "3.6.7"
  }
 },
 "nbformat": 4,
 "nbformat_minor": 2
}
