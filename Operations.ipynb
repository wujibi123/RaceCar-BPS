{
 "cells": [
  {
   "cell_type": "markdown",
   "metadata": {},
   "source": [
    "# Basic Math and Operations in Python"
   ]
  },
  {
   "cell_type": "markdown",
   "metadata": {},
   "source": [
    "### Math in Python is very intuitive. Once you get the hang of the symbols and types of numbers, it's just like doing math on paper.\n",
    "\n",
    "#### Types of numbers:\n",
    "Integers (ex. 3, 0, -2, 44)\n",
    "\n",
    "Floats, or numbers with a decimal point (ex. -1.2, 3., 4.1)\n",
    "\n",
    "- Note how `3.` is a float while `3` is an integer. The former has a decimal point. \n",
    "    \n",
    "Complex Numbers (don't worry about these for now!)\n",
    "\n",
    "#### Some familiar symbols:\n",
    "x **+** y:   Sum of two numbers\n",
    "\n",
    "x **-** y:  Difference of two numbers\n",
    "\n",
    "x ***** y:  Product of two numbers\n",
    "\n",
    "x **/** y   \n",
    "- If x and y are both integers: integer division of two numbers\n",
    "- If x or y is a float: float (decimal) division\n",
    "\n",
    "x ****** y:  x raised to y\n"
   ]
  },
  {
   "cell_type": "markdown",
   "metadata": {},
   "source": [
    "The division part is tricky. What is integer division vs float division? Try it out youself by running these blocks."
   ]
  },
  {
   "cell_type": "code",
   "execution_count": null,
   "metadata": {},
   "outputs": [],
   "source": [
    "20/6"
   ]
  },
  {
   "cell_type": "code",
   "execution_count": null,
   "metadata": {},
   "outputs": [],
   "source": [
    "10/2"
   ]
  },
  {
   "cell_type": "markdown",
   "metadata": {},
   "source": [
    "These are integer divisions! x and y are both integers, and the result is basically the quotient when you're doing long division - it's how many times y goes into x as a whole."
   ]
  },
  {
   "cell_type": "code",
   "execution_count": null,
   "metadata": {},
   "outputs": [],
   "source": [
    "20/6."
   ]
  },
  {
   "cell_type": "code",
   "execution_count": null,
   "metadata": {},
   "outputs": [],
   "source": [
    "3/1.5"
   ]
  },
  {
   "cell_type": "markdown",
   "metadata": {},
   "source": [
    "Notice the decimal points in both of the above examples? That tells Python to perform float division. It returns a float answer. "
   ]
  },
  {
   "cell_type": "markdown",
   "metadata": {},
   "source": [
    "#### Some more essential symbols\n",
    "x == y:\tCheck if two numbers have the same value\n",
    "\n",
    "x != y:\tCheck if two numbers have different values\n",
    "\n",
    "x > y:\tCheck if x is greater than y\n",
    "\n",
    "x >= y:\tCheck if x is greater than or equal to y\n",
    "\n",
    "x < y:\tCheck if x is less than y\n",
    "\n",
    "x <= y:\tCheck if x is less than or equal to y\n",
    "\n",
    "-x: The negative of x\n",
    "\n"
   ]
  },
  {
   "cell_type": "markdown",
   "metadata": {},
   "source": [
    "Run the following blocks. What do you think the results will be?"
   ]
  },
  {
   "cell_type": "code",
   "execution_count": null,
   "metadata": {},
   "outputs": [],
   "source": [
    "1 == 1"
   ]
  },
  {
   "cell_type": "code",
   "execution_count": null,
   "metadata": {},
   "outputs": [],
   "source": [
    "9+10 == 21"
   ]
  },
  {
   "cell_type": "code",
   "execution_count": null,
   "metadata": {},
   "outputs": [],
   "source": [
    "1 != 1"
   ]
  },
  {
   "cell_type": "code",
   "execution_count": null,
   "metadata": {},
   "outputs": [],
   "source": [
    "9 + 10 != 21"
   ]
  },
  {
   "cell_type": "code",
   "execution_count": null,
   "metadata": {},
   "outputs": [],
   "source": [
    "9 <= 9"
   ]
  },
  {
   "cell_type": "markdown",
   "metadata": {},
   "source": [
    "Good job! Moving on.\n",
    "#### Order of Operations\n",
    "The same order of operations for math (PEMDAS) applies in Python.\n",
    "\n",
    "Parentheses-> Exponents-> Multiplication/Division-> Addition/Subtraction\n",
    "\n"
   ]
  },
  {
   "cell_type": "markdown",
   "metadata": {},
   "source": [
    "```python\n",
    "# multiplication takes precedence over addition\n",
    ">>> 1 + 2 * 3\n",
    "7\n",
    "\n",
    "# grouping operations with parentheses\n",
    ">>> (1 + 2) * 3\n",
    "9\n",
    "\n",
    "# finding the remainder of division\n",
    ">>> 11 % 5\n",
    "1\n",
    "\n",
    "# checking an inequality\n",
    ">>> (2 ** 3) < (2 ** 4)\n",
    "True\n",
    "```\n",
    "Source = pythonlikeyoumeanit.com"
   ]
  },
  {
   "cell_type": "markdown",
   "metadata": {},
   "source": [
    "#### Other Modules\n",
    "You can import other modules like `math` to make life easier.\n",
    "The `math` library has a sqrt() function."
   ]
  },
  {
   "cell_type": "code",
   "execution_count": null,
   "metadata": {},
   "outputs": [],
   "source": [
    "import math\n",
    "print math.sqrt(4)"
   ]
  },
  {
   "cell_type": "markdown",
   "metadata": {},
   "source": [
    "There's more to Python math, but you're good to go for now! "
   ]
  },
  {
   "cell_type": "code",
   "execution_count": null,
   "metadata": {},
   "outputs": [],
   "source": []
  }
 ],
 "metadata": {
  "kernelspec": {
   "display_name": "Python 2",
   "language": "python",
   "name": "python2"
  },
  "language_info": {
   "codemirror_mode": {
    "name": "ipython",
    "version": 2
   },
   "file_extension": ".py",
   "mimetype": "text/x-python",
   "name": "python",
   "nbconvert_exporter": "python",
   "pygments_lexer": "ipython2",
   "version": "2.7.15"
  }
 },
 "nbformat": 4,
 "nbformat_minor": 2
}
