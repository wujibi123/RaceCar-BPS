{
 "cells": [
  {
   "cell_type": "markdown",
   "metadata": {},
   "source": [
    "# Variables"
   ]
  },
  {
   "cell_type": "markdown",
   "metadata": {},
   "source": [
    "Variables are placeholders - they allow us to store information to be easily used and changed throughout the program. Naming a variable makes life easier because data can be retrived and mutated easily. Variables are *vari* useful and can be found in any piece of code in any language."
   ]
  },
  {
   "cell_type": "markdown",
   "metadata": {},
   "source": [
    "#### Assignment"
   ]
  },
  {
   "cell_type": "markdown",
   "metadata": {},
   "source": [
    "Variables are assigned with the `=` symbol, which is called the assignment operator. The general syntax follows as `<variable name> = <object>`. The variable name is always on the left and the object is on the right. We will only be dealing with `int`, `float`, and `string` in this section, and you should be familiar with them from the prevous section."
   ]
  },
  {
   "cell_type": "code",
   "execution_count": null,
   "metadata": {},
   "outputs": [],
   "source": [
    "#Run the following code\n",
    "name = \"Daniel\"\n",
    "print name"
   ]
  },
  {
   "cell_type": "markdown",
   "metadata": {},
   "source": [
    "See what happens when the variable name is switch with the object."
   ]
  },
  {
   "cell_type": "code",
   "execution_count": null,
   "metadata": {},
   "outputs": [],
   "source": [
    "#Run the following code\n",
    "\"Daniel\" = name #Switched\n",
    "print name"
   ]
  },
  {
   "cell_type": "markdown",
   "metadata": {},
   "source": [
    "Note how the above returns an error. Unlike in math, you cannot reverse the variable name and the value."
   ]
  },
  {
   "cell_type": "markdown",
   "metadata": {},
   "source": [
    "#### Valid names\n",
    "A variable name can only contain alphanumeric characters and the underscore `_`. The former is just a fancy word for the alphabet and the positive single digit integers (`0-9`, `a-z`, and `A-Z`). "
   ]
  },
  {
   "cell_type": "code",
   "execution_count": 3,
   "metadata": {},
   "outputs": [],
   "source": [
    "earth = \"round\" # alphabet\n",
    "h3llo = 10 # alphabet + number\n",
    "var_name = 187 # alphabet + underscore\n",
    "_918301_ = \"idk\" # numbers + underscore\n",
    "_____ = \"really?\" # underscore only"
   ]
  },
  {
   "cell_type": "markdown",
   "metadata": {},
   "source": [
    "In addition, variable names can't start with numbers or contain periods. Try running the following block."
   ]
  },
  {
   "cell_type": "code",
   "execution_count": null,
   "metadata": {},
   "outputs": [],
   "source": [
    ".wrong = \"this won't work\"\n",
    "..... = \"?\"\n",
    "1978 = \"Big Brother\"\n",
    "6ix9ine = \"+4\""
   ]
  },
  {
   "cell_type": "markdown",
   "metadata": {},
   "source": [
    "They also can't be exisiting Python operators like \n",
    "\n",
    "```for, while, break, pass, continue\n",
    "in, is, not\n",
    "if, else, elif\n",
    "def, class, return, yield, raises\n",
    "import, from, as, with\n",
    "try, except, finally```\n"
   ]
  },
  {
   "cell_type": "code",
   "execution_count": null,
   "metadata": {},
   "outputs": [],
   "source": [
    "for = \"loop\"\n",
    "def = \"functions\"\n",
    "finally = \"this is an operator?\""
   ]
  },
  {
   "cell_type": "markdown",
   "metadata": {},
   "source": [
    "#### Unassigned variables\n",
    "You have to assign a variable before using it in your code! If you don't tell python what your variable stands for, it won't know what to do. \n"
   ]
  },
  {
   "cell_type": "code",
   "execution_count": null,
   "metadata": {},
   "outputs": [],
   "source": [
    "#run and see what happens!\n",
    "print(\"I like \" + favorite_Fruit) #favorite_fruit isn't previously defined!"
   ]
  },
  {
   "cell_type": "markdown",
   "metadata": {},
   "source": [
    "#### Reassignment"
   ]
  },
  {
   "cell_type": "markdown",
   "metadata": {},
   "source": [
    "Variables can be reassigned to different values. The \"most recent\" reassignment will be used."
   ]
  },
  {
   "cell_type": "code",
   "execution_count": 11,
   "metadata": {},
   "outputs": [],
   "source": [
    "#examples\n",
    "a = \"apples\"\n",
    "print a\n",
    "a = \"adam\"\n",
    "print a"
   ]
  },
  {
   "cell_type": "markdown",
   "metadata": {},
   "source": [
    "You can also assign new variables from old ones"
   ]
  },
  {
   "cell_type": "code",
   "execution_count": 7,
   "metadata": {},
   "outputs": [],
   "source": [
    "x = 10\n",
    "#Assign y to x\n",
    "y = x\n",
    "\n",
    "#Assign z based off y\n",
    "z = y + 5\n",
    "\n",
    "#Print x, y, and z out!"
   ]
  },
  {
   "cell_type": "markdown",
   "metadata": {},
   "source": [
    "Note how changing z doesn't change x and y\n",
    "\n",
    "Similarly, changing x won't change y and z\n",
    "\n",
    "(This is because integers are immutable, things would be different with lists!)"
   ]
  },
  {
   "cell_type": "code",
   "execution_count": null,
   "metadata": {},
   "outputs": [],
   "source": [
    "#Cool trick: you can also swap variables \n",
    "a = 3\n",
    "b = 9\n",
    "a,b = b,a\n",
    "print a,b"
   ]
  },
  {
   "cell_type": "markdown",
   "metadata": {},
   "source": [
    "#### Assignment operations "
   ]
  },
  {
   "cell_type": "markdown",
   "metadata": {},
   "source": [
    "Assignment operations are extentions of the `=` assignment operator. They add logicial operations onto reassigning variables. These operatons have to operate on an existing variable, and they follow the format `<varible> <assignment operation> <object>`."
   ]
  },
  {
   "cell_type": "markdown",
   "metadata": {},
   "source": [
    "| Operation|        Meaning        |\n",
    "| ---|:---------------------------:|\n",
    "| `+=`  | Right value **added** to the left variable, assigning the new value to the left variable.|\n",
    "| `-=` | Right value **subtracted** from the left variable, assigning the new value to the left variable. |\n",
    "| `*=`  |Right value **multiplied** by the left variable, assigning the new value to the left variable.  |\n",
    "| `/=` | Right value **divided** by the left variable, assigning the new value to the left variable.      |\n",
    "| `**=` | Right value is the **exponent** of the left variable, assigning the new value to the left variable.|\n",
    "\n",
    "---\n",
    "Don't worry - these are just shorthand.\n",
    "`x += 1` is the same as `x = x+1`"
   ]
  },
  {
   "cell_type": "markdown",
   "metadata": {},
   "source": [
    "+="
   ]
  },
  {
   "cell_type": "code",
   "execution_count": null,
   "metadata": {},
   "outputs": [],
   "source": [
    "#examples\n",
    "x = 1\n",
    "x += 1\n",
    "print x"
   ]
  },
  {
   "cell_type": "markdown",
   "metadata": {},
   "source": [
    "-="
   ]
  },
  {
   "cell_type": "code",
   "execution_count": null,
   "metadata": {},
   "outputs": [],
   "source": [
    "#examples\n",
    "big_number = 70\n",
    "big_number -= 1\n",
    "print big_number"
   ]
  },
  {
   "cell_type": "markdown",
   "metadata": {},
   "source": [
    "*="
   ]
  },
  {
   "cell_type": "code",
   "execution_count": null,
   "metadata": {},
   "outputs": [],
   "source": [
    "#examples\n",
    "apples = 4\n",
    "apples *= 3\n",
    "print apples"
   ]
  },
  {
   "cell_type": "markdown",
   "metadata": {},
   "source": [
    "/=. beware of integer division."
   ]
  },
  {
   "cell_type": "code",
   "execution_count": null,
   "metadata": {},
   "outputs": [],
   "source": [
    "#examples\n",
    "h = 99\n",
    "h /= 3\n",
    "print h"
   ]
  },
  {
   "cell_type": "markdown",
   "metadata": {},
   "source": [
    "**= "
   ]
  },
  {
   "cell_type": "code",
   "execution_count": null,
   "metadata": {},
   "outputs": [],
   "source": [
    "#examples\n",
    "bananas = 2\n",
    "exponent = 3\n",
    "bananas *= exponent\n",
    "print bananas"
   ]
  },
  {
   "cell_type": "markdown",
   "metadata": {},
   "source": [
    "You can also add strings, not just numbers"
   ]
  },
  {
   "cell_type": "code",
   "execution_count": 10,
   "metadata": {},
   "outputs": [
    {
     "name": "stdout",
     "output_type": "stream",
     "text": [
      "Hello_World\n"
     ]
    }
   ],
   "source": [
    "my_string = \"Hello_\"\n",
    "your_string = \"World\"\n",
    "\n",
    "my_string += your_string\n",
    "\n",
    "print my_string"
   ]
  },
  {
   "cell_type": "markdown",
   "metadata": {},
   "source": [
    "Similarly, you can also multiply strings!"
   ]
  },
  {
   "cell_type": "code",
   "execution_count": null,
   "metadata": {},
   "outputs": [],
   "source": [
    "x = \"hi \"\n",
    "x *= 20\n",
    "print(x)"
   ]
  },
  {
   "cell_type": "markdown",
   "metadata": {},
   "source": [
    "## Exercises"
   ]
  },
  {
   "cell_type": "code",
   "execution_count": null,
   "metadata": {},
   "outputs": [],
   "source": [
    "#Declare variables for the following:\n",
    "#Your name, age, favorite color, number of siblings you have\n",
    "\n"
   ]
  },
  {
   "cell_type": "code",
   "execution_count": null,
   "metadata": {},
   "outputs": [],
   "source": [
    "#Now, use these variables to introduce yourself!\n",
    "#Hint: use strings + variables\n",
    "\n"
   ]
  },
  {
   "cell_type": "markdown",
   "metadata": {},
   "source": [
    "---"
   ]
  },
  {
   "cell_type": "code",
   "execution_count": null,
   "metadata": {},
   "outputs": [],
   "source": [
    "#Print your name 100 times (hint: use your name variable and multiplication!)\n",
    "\n"
   ]
  },
  {
   "cell_type": "code",
   "execution_count": null,
   "metadata": {},
   "outputs": [],
   "source": [
    "#Make a variable x, and make it equal one more than your current age (age + 1)\n",
    "\n"
   ]
  },
  {
   "cell_type": "code",
   "execution_count": null,
   "metadata": {},
   "outputs": [],
   "source": [
    "#Print a sentence saying how old you will be next year! \n",
    "#Be sure to use the new variable x\n"
   ]
  }
 ],
 "metadata": {
  "kernelspec": {
   "display_name": "Python 3",
   "language": "python",
   "name": "python3"
  },
  "language_info": {
   "codemirror_mode": {
    "name": "ipython",
    "version": 3
   },
   "file_extension": ".py",
   "mimetype": "text/x-python",
   "name": "python",
   "nbconvert_exporter": "python",
   "pygments_lexer": "ipython3",
   "version": "3.6.4"
  }
 },
 "nbformat": 4,
 "nbformat_minor": 2
}
