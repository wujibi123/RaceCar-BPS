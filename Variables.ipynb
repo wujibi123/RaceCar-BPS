{
 "cells": [
  {
   "cell_type": "markdown",
   "metadata": {},
   "source": [
    "# Variables (Python 2.7)"
   ]
  },
  {
   "cell_type": "markdown",
   "metadata": {},
   "source": [
    "## Variables\n",
    "### What are variables?\n",
    "Variables are like containers - they allow us to store information to be easily used and changed throughout the program. You can name a variable (this makes life easier because data can be retrived easily. Think of pronouns). Variables are *vari* useful and can be found in any piece of code in any language.\n",
    "### How do I assign values to a variable?\n",
    "With an `=` -> this is the assignment operator in Python\n",
    "\n",
    "You put the variable name on the left and the object on the right.\n",
    "\n",
    "`variable` `=` `value`"
   ]
  },
  {
   "cell_type": "code",
   "execution_count": 5,
   "metadata": {},
   "outputs": [
    {
     "name": "stdout",
     "output_type": "stream",
     "text": [
      "Daniel\n"
     ]
    }
   ],
   "source": [
    "#Run the following code\n",
    "name = \"Daniel\"\n",
    "print name"
   ]
  },
  {
   "cell_type": "code",
   "execution_count": 4,
   "metadata": {},
   "outputs": [
    {
     "ename": "SyntaxError",
     "evalue": "can't assign to literal (<ipython-input-4-cbef9fe7af2b>, line 2)",
     "output_type": "error",
     "traceback": [
      "\u001b[0;36m  File \u001b[0;32m\"<ipython-input-4-cbef9fe7af2b>\"\u001b[0;36m, line \u001b[0;32m2\u001b[0m\n\u001b[0;31m    \"Daniel\" = name\u001b[0m\n\u001b[0;31mSyntaxError\u001b[0m\u001b[0;31m:\u001b[0m can't assign to literal\n"
     ]
    }
   ],
   "source": [
    "#Run the following code\n",
    "\"Daniel\" = name\n",
    "print name"
   ]
  },
  {
   "cell_type": "markdown",
   "metadata": {},
   "source": [
    "Note how the above returns an error. Unlike in math, you cannot reverse the variable name and the value."
   ]
  },
  {
   "cell_type": "markdown",
   "metadata": {},
   "source": [
    "### What can you name variables?\n",
    "Pretty much *anything*, but it can't start with numbers or contain periods.\n",
    "They also can't be exisiting Python operators like \n",
    "\n",
    "```for, while, break, pass, continue\n",
    "in, is, not\n",
    "if, else, elif\n",
    "def, class, return, yield, raises\n",
    "import, from, as, with\n",
    "try, except, finally```\n"
   ]
  },
  {
   "cell_type": "markdown",
   "metadata": {},
   "source": [
    "### What can I assign to variables?\n",
    "Again, pretty much everything. A variable can be contain a **Mutable** or **Immutable** object\n",
    "\n",
    "Mutable objects:\n",
    "* lists\n",
    "```python\n",
    "groceryList = [\"apples\",\"bananas\",\"milk\",\"eggs\"]\n",
    "```\n",
    "* dictionaries\n",
    "```python\n",
    "gradeBook = {\"Johnny\":99,\"Joe\":92,\"Jim\":100}\n",
    "```\n",
    "* sets  (don't worry about this)\n",
    "```python\n",
    "winners = {\"Brennan\",\"Liam\",\"Nick\"}\n",
    "```\n",
    "* NumPy arrays  (don't worry about this)\n",
    "```python\n",
    "import numpy as np\n",
    "a = np.array([0,1,2,3])\n",
    "```\n",
    "\n",
    "Immutable objects:\n",
    "* numbers (integers, floats, complex numbers)\n",
    "```python\n",
    "racecarSpeed = 79\n",
    "y = -0.4\n",
    "```\n",
    "* strings \n",
    "```python\n",
    "msg = \"Hi, I'm Danny\"\n",
    "```\n",
    "* tuples\n",
    "```python\n",
    "angles = (35,29,10,2,1,4,6)\n",
    "```"
   ]
  },
  {
   "cell_type": "markdown",
   "metadata": {},
   "source": [
    "### What is mutability?\n",
    "(Don't worry about this)\n",
    "#from pythonlikeyoumeanit.com\n",
    "\n",
    "The mutability of an object refers to its ability to have its state changed. A mutable object can have its state changed, whereas an immutable object cannot. For instance, a list is an example of a mutable object. Once formed, we are able to update the contents of a list - replacing, adding to, and removing its elements.\n",
    "\n"
   ]
  },
  {
   "cell_type": "markdown",
   "metadata": {},
   "source": [
    "---"
   ]
  },
  {
   "cell_type": "markdown",
   "metadata": {},
   "source": [
    "Now, try making your own variables and printing them!"
   ]
  },
  {
   "cell_type": "code",
   "execution_count": null,
   "metadata": {},
   "outputs": [],
   "source": [
    "#Your code here"
   ]
  }
 ],
 "metadata": {
  "kernelspec": {
   "display_name": "Python 2",
   "language": "python",
   "name": "python2"
  },
  "language_info": {
   "codemirror_mode": {
    "name": "ipython",
    "version": 2
   },
   "file_extension": ".py",
   "mimetype": "text/x-python",
   "name": "python",
   "nbconvert_exporter": "python",
   "pygments_lexer": "ipython2",
   "version": "2.7.15"
  }
 },
 "nbformat": 4,
 "nbformat_minor": 2
}
