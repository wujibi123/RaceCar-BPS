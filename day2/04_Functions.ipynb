{
 "cells": [
  {
   "cell_type": "markdown",
   "metadata": {},
   "source": [
    "# Functions"
   ]
  },
  {
   "cell_type": "markdown",
   "metadata": {},
   "source": [
    "If you want to jump straight into the action, scroll down and look for the colored \"Make your own function!\" markers to try functions yourself! If you need help, raise your hand or scroll up to see the explanation. Have fun!"
   ]
  },
  {
   "cell_type": "markdown",
   "metadata": {},
   "source": [
    "### Why functions?"
   ]
  },
  {
   "cell_type": "markdown",
   "metadata": {},
   "source": [
    "You don't know it right now, but YOU have already been using functions. Look here:"
   ]
  },
  {
   "cell_type": "code",
   "execution_count": null,
   "metadata": {},
   "outputs": [],
   "source": [
    "print(\"Zach is the best\")"
   ]
  },
  {
   "cell_type": "markdown",
   "metadata": {},
   "source": [
    "Look familiar? Without even knowing it, you have been using the \"print\" function these past few weeks. Now, why do we use functions? Well, they are good for concisely doing something if you want to do a lot of times. Would you want to type *this* every time you wanted to print something?"
   ]
  },
  {
   "cell_type": "markdown",
   "metadata": {},
   "source": [
    "01101110011001010111011001100101011100100010000001100111\n",
    "01101111011011100110111001100001001000000110011101101001\n",
    "01110110011001010010000001111001011011110111010100100000\n",
    "01110101011100000010110000100000011011100110010101110110\n",
    "01100101011100100010000001100111011011110110111001101110\n",
    "01100001001000000110110001100101011101000010000001111001\n",
    "01101111011101010010000001100100011011110111011101101110"
   ]
  },
  {
   "cell_type": "markdown",
   "metadata": {},
   "source": [
    "Good answer. \"print\" is a function built into Python, but we are also able to create our own functions, usually for something complicated that you want to do many times. Each function has a name (\"print\"), arguments (whatever you are printing), and a body (the stuff that makes it actually, you know, print)."
   ]
  },
  {
   "cell_type": "markdown",
   "metadata": {},
   "source": [
    "### How to make a function"
   ]
  },
  {
   "cell_type": "markdown",
   "metadata": {},
   "source": [
    " Let's try creating a very useful function (I use this almost every day):"
   ]
  },
  {
   "cell_type": "code",
   "execution_count": null,
   "metadata": {},
   "outputs": [],
   "source": [
    "def add694201337 (number):\n",
    "    sum = number + 694201337\n",
    "    return sum\n",
    "#Please press Ctrl+Enter. Do not expect any output just yet."
   ]
  },
  {
   "cell_type": "markdown",
   "metadata": {},
   "source": [
    "Fantastic! Now we can add our favorite number to any number we put in. Notice the formatting of the code: start with **def**, then the **name** of the function, then the names of the **arguments (inputs) in parentheses**, then a **colon**, then on the next line we start the **body code**. We end with a **return** statement, which \"gives back\" the result (output) to whatever summoned (called) the function."
   ]
  },
  {
   "cell_type": "markdown",
   "metadata": {},
   "source": [
    "### Calling functions"
   ]
  },
  {
   "cell_type": "markdown",
   "metadata": {},
   "source": [
    "Let's try calling the function next:"
   ]
  },
  {
   "cell_type": "code",
   "execution_count": null,
   "metadata": {},
   "outputs": [],
   "source": [
    "add694201337(8008135)"
   ]
  },
  {
   "cell_type": "markdown",
   "metadata": {},
   "source": [
    "Notice how we simply write the **name** of the function, followed by the **arguments in parentheses**. Remember that our function accepted a \"number\" (see above); that number is 8008135 here."
   ]
  },
  {
   "cell_type": "markdown",
   "metadata": {},
   "source": [
    "# <font face = \"forte\"><font size = 100><font style = background-color:black><font color = red>Make </font><font color = gold> your </font><font color = limegreen> own </font><font color = deepskyblue> function!</font></font></font></font>"
   ]
  },
  {
   "cell_type": "markdown",
   "metadata": {},
   "source": [
    "Alright, let's get started with a function that multiplies the input number by 666 (Boston Public Schools = Illuminati Confirmed?)."
   ]
  },
  {
   "cell_type": "code",
   "execution_count": null,
   "metadata": {},
   "outputs": [],
   "source": [
    "#Make your function here! Please name it \"times666\". Hit Ctrl+Enter when you're done.\n"
   ]
  },
  {
   "cell_type": "code",
   "execution_count": null,
   "metadata": {},
   "outputs": [],
   "source": [
    "#Hit Ctrl+Enter here to test your code! You should get 4662.\n",
    "times666(7)"
   ]
  },
  {
   "cell_type": "markdown",
   "metadata": {},
   "source": [
    "### Functions with multiple inputs"
   ]
  },
  {
   "cell_type": "markdown",
   "metadata": {},
   "source": [
    "Now lets get fancy and create a function with two inputs. Here's one that adds two numbers:"
   ]
  },
  {
   "cell_type": "code",
   "execution_count": null,
   "metadata": {},
   "outputs": [],
   "source": [
    "def add (number1, number2):\n",
    "    sum = number1 + number2\n",
    "    return sum"
   ]
  },
  {
   "cell_type": "markdown",
   "metadata": {},
   "source": [
    "Remember our old add694201337 function? It was very one-dimensional since it could only add one number. Now, we can pick any two numbers and add them together, just like any calculator. Notice how the two number **arguments** are separated by a **comma**."
   ]
  },
  {
   "cell_type": "code",
   "execution_count": null,
   "metadata": {},
   "outputs": [],
   "source": [
    "add(7,5)"
   ]
  },
  {
   "cell_type": "markdown",
   "metadata": {},
   "source": [
    "We can do as many inputs as we'd like:"
   ]
  },
  {
   "cell_type": "code",
   "execution_count": null,
   "metadata": {},
   "outputs": [],
   "source": [
    "def whoIsTheCoolest (teacher1,teacher2,teacher3,teacher4,teacher5,teacher6):\n",
    "    return \"Zach\"\n",
    "\n",
    "whoIsTheCoolest(\"Dan\",\"Dan\",\"Dan\",\"Zach\",\"Eyassu\",\"Andrew\")"
   ]
  },
  {
   "cell_type": "markdown",
   "metadata": {},
   "source": [
    "Unsurprisingly, Zach is the coolest teacher/TA of all."
   ]
  },
  {
   "cell_type": "markdown",
   "metadata": {},
   "source": [
    "You can also make a function with **no arguments**, but it's usually not very exciting."
   ]
  },
  {
   "cell_type": "code",
   "execution_count": null,
   "metadata": {},
   "outputs": [],
   "source": [
    "def five ():\n",
    "    return 5\n",
    "\n",
    "five()+6"
   ]
  },
  {
   "cell_type": "markdown",
   "metadata": {},
   "source": [
    "Notice that you still need the parentheses both to define the function and to call it, even though they are empty."
   ]
  },
  {
   "cell_type": "markdown",
   "metadata": {},
   "source": [
    "# <font face = \"forte\"><font size = 100><font style = background-color:black><font color = red>Make </font><font color = gold> your </font><font color = limegreen> own </font><font color = deepskyblue> function!</font></font></font></font>"
   ]
  },
  {
   "cell_type": "markdown",
   "metadata": {},
   "source": [
    "Okay, here's your challenge: make a function that takes in two numbers (how about x and y?) and multiplies them together!"
   ]
  },
  {
   "cell_type": "code",
   "execution_count": null,
   "metadata": {},
   "outputs": [],
   "source": [
    "#Make your function here! Please name it \"multiply\". Hit Ctrl+Enter when you're done.\n"
   ]
  },
  {
   "cell_type": "code",
   "execution_count": null,
   "metadata": {},
   "outputs": [],
   "source": [
    "#Hit Ctrl+Enter here to test your code! You should get -15.\n",
    "multiply(-3,5)"
   ]
  },
  {
   "cell_type": "markdown",
   "metadata": {},
   "source": [
    "### Functions with multiple outputs"
   ]
  },
  {
   "cell_type": "markdown",
   "metadata": {},
   "source": [
    "Now lets get even fancier and try to create a function with two outputs! Check out this function that adds 69 to a number and subtracts 69 from the same number:"
   ]
  },
  {
   "cell_type": "code",
   "execution_count": null,
   "metadata": {},
   "outputs": [],
   "source": [
    "def plusMinus69 (number):\n",
    "    minus69 = number - 69\n",
    "    plus69 = number + 69\n",
    "    return (plus69, minus69)\n",
    "\n",
    "plusMinus69(351)"
   ]
  },
  {
   "cell_type": "markdown",
   "metadata": {},
   "source": [
    "Notice: it's almost the same as everything we've done so far except now we return **two outputs in parentheses, separated by commas**."
   ]
  },
  {
   "cell_type": "markdown",
   "metadata": {},
   "source": [
    "# <font face = \"forte\"><font size = 100><font style = background-color:black><font color = red>Make </font><font color = gold> your </font><font color = limegreen> own </font><font color = deepskyblue> function!</font></font></font></font>"
   ]
  },
  {
   "cell_type": "markdown",
   "metadata": {},
   "source": [
    "Why don't you try making a function that takes two numbers (x and y) as inputs and outputs x times y and x divided by y."
   ]
  },
  {
   "cell_type": "code",
   "execution_count": null,
   "metadata": {},
   "outputs": [],
   "source": [
    "#Make your function here! Please name it \"multiplyAndDivide\". Hit Ctrl+Enter when you're done.\n"
   ]
  },
  {
   "cell_type": "code",
   "execution_count": null,
   "metadata": {},
   "outputs": [],
   "source": [
    "#Hit Ctrl+Enter here to test your code! You should get (42, 0.857142857142...).\n",
    "multiplyAndDivide(6,7)\n",
    "\n",
    "#If you got (42,0), consider the difference between 6/7 and 6./7."
   ]
  },
  {
   "cell_type": "markdown",
   "metadata": {},
   "source": [
    "### Functions with conditionals"
   ]
  },
  {
   "cell_type": "markdown",
   "metadata": {},
   "source": [
    "We can also create functions that do different things depending on the input. How, you ask? With conditionals!"
   ]
  },
  {
   "cell_type": "code",
   "execution_count": null,
   "metadata": {},
   "outputs": [],
   "source": [
    "def multiplyOrDivide (x,y,operation):\n",
    "    if operation is \"divide\":\n",
    "        return ((float)x)/y\n",
    "    if operation is \"multiply\":\n",
    "        return x*y\n",
    "    else:\n",
    "        return \"Invalid operation\"\n",
    "\n",
    "multiplyOrDivide(7,9,\"multiply\")\n",
    "multiplyOrDivide(16,8,\"divide\")"
   ]
  },
  {
   "cell_type": "markdown",
   "metadata": {},
   "source": [
    "Again, it's pretty similar to all our other functions, except now we have a conditional inside. Each branch of the conditional has a different return statement, so the output is different depending on the result of the conditional."
   ]
  },
  {
   "cell_type": "markdown",
   "metadata": {},
   "source": [
    "# <font face = \"forte\"><font size = 100><font style = background-color:black><font color = red>Make </font><font color = gold> your </font><font color = limegreen> own </font><font color = deepskyblue> function!</font></font></font></font>"
   ]
  },
  {
   "cell_type": "markdown",
   "metadata": {},
   "source": [
    "Try this: add onto the multiplyOrDivide function above and make it able to add and subtract as well. Then, it's almost like a basic calculator!"
   ]
  },
  {
   "cell_type": "code",
   "execution_count": null,
   "metadata": {},
   "outputs": [],
   "source": [
    "#Make your function here! Please name it \"calculator\". Hit Ctrl+Enter when you're done.\n",
    "def calculator (x,y,operation):\n",
    "    if operation is \"divide\":\n",
    "        return ((float)x)/y #notice how we use (float) to avoid integer division, where 6/7 would be 0\n",
    "    if operation is \"multiply\":\n",
    "        return x*y\n",
    "    #ADD THE CONDITIONALS FOR ADDITION AND SUBTRACTION HERE!\n",
    "    else:\n",
    "        return \"Invalid operation\""
   ]
  },
  {
   "cell_type": "code",
   "execution_count": null,
   "metadata": {},
   "outputs": [],
   "source": [
    "#Hit Ctrl+Enter here to test your code! You should get 13 and -1.\n",
    "calculator(6,7,\"add\")\n",
    "calculator(6,7,\"subtract\")"
   ]
  },
  {
   "cell_type": "markdown",
   "metadata": {},
   "source": [
    "### Functions that use functions"
   ]
  },
  {
   "cell_type": "markdown",
   "metadata": {},
   "source": [
    "If we wanted to make a *really* complicated function, we could have other blocks of code repeated inside it:"
   ]
  },
  {
   "cell_type": "code",
   "execution_count": null,
   "metadata": {},
   "outputs": [],
   "source": [
    "def biggest(number1,number2,number3,number4):\n",
    "    oneBIG = number1 > number2 #this is True if 1 is bigger and False if 1 is not bigger\n",
    "    fourBIG = number4 > number3 #this is True if 4 is bigger and False if 4 is not bigger\n",
    "    if oneBIG and fourBIG:\n",
    "        if number1 > number4:\n",
    "            return number1\n",
    "        else:\n",
    "            return number4\n",
    "    if oneBIG and not fourBIG:\n",
    "        if number1 > number3:\n",
    "            return number1\n",
    "        else:\n",
    "            return number3\n",
    "    if not oneBIG and fourBIG:\n",
    "        if number2 > number4:\n",
    "            return number2\n",
    "        else:\n",
    "            return number4\n",
    "    if not oneBIG and not fourBIG:\n",
    "        if number2 > number3:\n",
    "            return number2\n",
    "        else:\n",
    "            return number3"
   ]
  },
  {
   "cell_type": "markdown",
   "metadata": {},
   "source": [
    "But that's complicated and no fun. Let's try to fix this with a function ... inside of a function! Let's start with this **helper function**. It looks simple enough:"
   ]
  },
  {
   "cell_type": "code",
   "execution_count": null,
   "metadata": {},
   "outputs": [],
   "source": [
    "def biggestOfTwo(number1,number2):\n",
    "    if number1 > number2:\n",
    "        return number1\n",
    "    else:\n",
    "        return number2"
   ]
  },
  {
   "cell_type": "markdown",
   "metadata": {},
   "source": [
    "Now let's use it in our biggestOfFour function!"
   ]
  },
  {
   "cell_type": "code",
   "execution_count": null,
   "metadata": {},
   "outputs": [],
   "source": [
    "def biggestOfFour(number1,number2,number3,number4):\n",
    "    return biggestOfTwo(biggestOfTwo(number1,number2),biggestOfTwo(number3,number4))\n",
    "    #this finds the biggest of numbers 1 and 2, and then compares it against the biggest of numbers 3 and 4.\n",
    "    #it returns the biggest of the biggest (sort of like a \"bigness\" tournament)"
   ]
  },
  {
   "cell_type": "markdown",
   "metadata": {},
   "source": [
    "That's way simpler!"
   ]
  },
  {
   "cell_type": "markdown",
   "metadata": {},
   "source": [
    "# <font face = \"forte\"><font size = 100><font style = background-color:black><font color = red>Make </font><font color = gold> your </font><font color = limegreen> own </font><font color = deepskyblue> function!</font></font></font></font>"
   ]
  },
  {
   "cell_type": "markdown",
   "metadata": {},
   "source": [
    "Let's go further: try to make a \"biggestOfNine\" function using our \"biggestOfFour\" and \"biggestOfTwo\" functions from above. Make sure you've pressed Ctrl+Enter in each of the code boxes above!"
   ]
  },
  {
   "cell_type": "code",
   "execution_count": null,
   "metadata": {},
   "outputs": [],
   "source": [
    "#Make your function here! Please name it \"biggestOfNine\". Hit Ctrl+Enter when you're done.\n"
   ]
  },
  {
   "cell_type": "code",
   "execution_count": null,
   "metadata": {},
   "outputs": [],
   "source": [
    "#Hit Ctrl+Enter here to test your code! You should get 17.\n",
    "biggestOfNine(1,7,6.2,3,9,-5,8,17,8)"
   ]
  },
  {
   "cell_type": "markdown",
   "metadata": {},
   "source": [
    "# <font face = \"lucida\"><font size = 100><font style = background-color:black><font color = fuchsia>FINAL CHALLENGE</font></font></font></font>"
   ]
  },
  {
   "cell_type": "markdown",
   "metadata": {},
   "source": [
    "Okay -- you look like you're ready for a challenge. Let's combine our knowledge from our previous functions into something great. Make a function that can find both the biggest and the smallest of seven numbers. If you input \"smallest\", it should output the smallest. If you input \"biggest\", it should output the biggest. If you input \"both\", it should output both."
   ]
  },
  {
   "cell_type": "code",
   "execution_count": null,
   "metadata": {},
   "outputs": [],
   "source": [
    "#Make your function here! Please name it \"bigSmallSeven\". Hit Ctrl+Enter when you're done.\n"
   ]
  },
  {
   "cell_type": "code",
   "execution_count": null,
   "metadata": {},
   "outputs": [],
   "source": [
    "#Hit Ctrl+Enter here to test your code! You should get 42 and -30 and (42,-30).\n",
    "bigSmallSeven(10,17.44,42,-30,9.6,-25,38, \"biggest\")\n",
    "bigSmallSeven(10,17.44,42,-30,9.6,-25,38, \"smallest\")\n",
    "bigSmallSeven(10,17.44,42,-30,9.6,-25,38, \"both\")"
   ]
  },
  {
   "cell_type": "markdown",
   "metadata": {},
   "source": [
    "<font size = 100><font color = gold><font style = background-color:black><p>&#9733;&#9733; <font face = \"lucida\">Great job! You have mastered functions!</font> &#9733;&#9733;</p></font></font></font>"
   ]
  }
 ],
 "metadata": {
  "kernelspec": {
   "display_name": "Python 3",
   "language": "python",
   "name": "python3"
  },
  "language_info": {
   "codemirror_mode": {
    "name": "ipython",
    "version": 3
   },
   "file_extension": ".py",
   "mimetype": "text/x-python",
   "name": "python",
   "nbconvert_exporter": "python",
   "pygments_lexer": "ipython3",
   "version": "3.6.7"
  }
 },
 "nbformat": 4,
 "nbformat_minor": 2
}
