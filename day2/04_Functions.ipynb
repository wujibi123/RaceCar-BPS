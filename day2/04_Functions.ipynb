{
 "cells": [
  {
   "cell_type": "markdown",
   "metadata": {},
   "source": [
    "# Functions, Lists, and Loops"
   ]
  },
  {
   "cell_type": "markdown",
   "metadata": {},
   "source": [
    "You don't know it right now, but YOU have already been using functions. Look here:"
   ]
  },
  {
   "cell_type": "code",
   "execution_count": null,
   "metadata": {},
   "outputs": [],
   "source": [
    "print(\"Zach is the best\")"
   ]
  },
  {
   "cell_type": "markdown",
   "metadata": {},
   "source": [
    "See? Without even knowing it, you have been using the \"print\" function these past few weeks. Now, why do we use functions? Well, they are good for concisely doing something if you want to do a lot of times. Would you want to type *this* every time you wanted to print something?"
   ]
  },
  {
   "cell_type": "markdown",
   "metadata": {},
   "source": [
    "01101110011001010111011001100101011100100010000001100111\n",
    "01101111011011100110111001100001001000000110011101101001\n",
    "01110110011001010010000001111001011011110111010100100000\n",
    "01110101011100000010110000100000011011100110010101110110\n",
    "01100101011100100010000001100111011011110110111001101110\n",
    "01100001001000000110110001100101011101000010000001111001\n",
    "01101111011101010010000001100100011011110111011101101110"
   ]
  },
  {
   "cell_type": "markdown",
   "metadata": {},
   "source": [
    "Good answer. \"print\" is a function built into Python, but we are also able to create our own functions, usually for something complicated that you want to do many times. Each function has a name (\"print\"), arguments (whatever you are printing), and a body (the stuff that makes it actually, you know, print). Let's try creating a very useful function (I use this almost every day):"
   ]
  },
  {
   "cell_type": "code",
   "execution_count": null,
   "metadata": {},
   "outputs": [],
   "source": [
    "def add694201337 (number):\n",
    "    sum = number + 694201337\n",
    "    return sum"
   ]
  },
  {
   "cell_type": "markdown",
   "metadata": {},
   "source": [
    "Fantastic! Now we can add our favorite number to any number we put in. Notice the formatting of the code: start with \"def\", then the name of the function, then the names of the arguments in parentheses, then a colon, then on the next line we start the body code. We end with a return statement, which \"gives back\" the result to whatever summoned (called) the function. Let's try that next:"
   ]
  },
  {
   "cell_type": "code",
   "execution_count": null,
   "metadata": {},
   "outputs": [],
   "source": [
    "add694201337(8008135)"
   ]
  },
  {
   "cell_type": "markdown",
   "metadata": {},
   "source": [
    "Can you create a function that squares a number? "
   ]
  },
  {
   "cell_type": "code",
   "execution_count": null,
   "metadata": {},
   "outputs": [],
   "source": [
    "def square (number):\n",
    "    thesquare = number * number\n",
    "    return thesquare"
   ]
  },
  {
   "cell_type": "markdown",
   "metadata": {},
   "source": [
    "Now lets get fancy and create a function with two inputs.  Can you create a function that multiplies two numbers?"
   ]
  },
  {
   "cell_type": "code",
   "execution_count": null,
   "metadata": {},
   "outputs": [],
   "source": [
    "def multiply (number1, number2):\n",
    "    product = number1 * number2\n",
    "    return product"
   ]
  },
  {
   "cell_type": "markdown",
   "metadata": {},
   "source": [
    "Now lets get even fancier and try to create a function with two inputs and two outputs! Can you create a function that multiplies two numbers and divides the same two numbers?"
   ]
  },
  {
   "cell_type": "code",
   "execution_count": null,
   "metadata": {},
   "outputs": [],
   "source": [
    "def MultiplyAndDivide (number1, number2):\n",
    "    product = number1 * number2\n",
    "    quotient = number1 / number2\n",
    "    return (product, quotient)"
   ]
  },
  {
   "cell_type": "markdown",
   "metadata": {},
   "source": [
    "Looks great! Now let's do something totally unrelated: lists! A list is simply a good way to organize information, sort of like how you use binders to organized all your school materials for various classes. Let's try making one:"
   ]
  },
  {
   "cell_type": "code",
   "execution_count": null,
   "metadata": {},
   "outputs": [],
   "source": [
    "coolKids = [\"Zach\"]"
   ]
  },
  {
   "cell_type": "markdown",
   "metadata": {},
   "source": [
    "Notice how the list has the name \"coolKids\" and includes one object, a String named \"Zach\". Can you create a list with your name added to mine?"
   ]
  },
  {
   "cell_type": "code",
   "execution_count": null,
   "metadata": {},
   "outputs": [],
   "source": [
    "superCoolKids =[\"Zach\", \"yourname\"]"
   ]
  },
  {
   "cell_type": "markdown",
   "metadata": {},
   "source": [
    "You can also create lists of numbers.  Or lists that are a combination of numbers and strings."
   ]
  },
  {
   "cell_type": "code",
   "execution_count": null,
   "metadata": {},
   "outputs": [],
   "source": [
    "legalNumbers = [42, 4761, 80085]\n",
    "legalSeaFoods = [\"fishy\",0,\"delishy\"]"
   ]
  },
  {
   "cell_type": "markdown",
   "metadata": {},
   "source": [
    "If you're feeling extra wild, you can make a list... of lists:"
   ]
  },
  {
   "cell_type": "code",
   "execution_count": null,
   "metadata": {},
   "outputs": [],
   "source": [
    "listception = [[1,2,3,4,5],[2,4,6,8,10],[5,4,3,2,1],[1,3,5,7,9]]"
   ]
  },
  {
   "cell_type": "markdown",
   "metadata": {},
   "source": [
    "We can also add lists to stick them together (end to end):"
   ]
  },
  {
   "cell_type": "code",
   "execution_count": null,
   "metadata": {},
   "outputs": [],
   "source": [
    "legalNumbers + legalSeaFoods"
   ]
  },
  {
   "cell_type": "markdown",
   "metadata": {},
   "source": [
    "Now let's try something new. What if I want the 1st element of a list? Or the second to last? Well..."
   ]
  },
  {
   "cell_type": "code",
   "execution_count": null,
   "metadata": {},
   "outputs": [],
   "source": [
    "legalNumbers[0]\n",
    "legalSeaFoods[-2]"
   ]
  },
  {
   "cell_type": "markdown",
   "metadata": {},
   "source": [
    "Unfortunately for us intelligent sacks of meat, computers count from zero (who thought that was a good idea?), but only on the positive end. So, we have to put n-1 in the square brackets to get the nth element of a list. However, we have to put -n to get the nth to last elements of the list."
   ]
  },
  {
   "cell_type": "markdown",
   "metadata": {},
   "source": [
    "Now, what can we do with all this knowledge of lists? Well, let's try printing all the legal numbers:"
   ]
  },
  {
   "cell_type": "code",
   "execution_count": null,
   "metadata": {},
   "outputs": [],
   "source": [
    "print(legalNumbers[0])\n",
    "print(legalNumbers[1])\n",
    "print(legalNumbers[2])"
   ]
  },
  {
   "cell_type": "markdown",
   "metadata": {},
   "source": [
    "How would you print out those same items in the same order using negative numbers as indices? "
   ]
  },
  {
   "cell_type": "code",
   "execution_count": null,
   "metadata": {},
   "outputs": [],
   "source": [
    "print(legalNumbers[-3])\n",
    "print(legalNumbers[-2])\n",
    "print(legalNumbers[-1])"
   ]
  },
  {
   "cell_type": "markdown",
   "metadata": {},
   "source": [
    "Now lets suppose you had a longer list"
   ]
  },
  {
   "cell_type": "code",
   "execution_count": null,
   "metadata": {},
   "outputs": [],
   "source": [
    "myfavoritenumbers =[0,2,4,6,8,10,12,14,16,18,20,22,24,26]"
   ]
  },
  {
   "cell_type": "markdown",
   "metadata": {},
   "source": [
    "Can you print your list in order?"
   ]
  },
  {
   "cell_type": "code",
   "execution_count": null,
   "metadata": {},
   "outputs": [],
   "source": [
    "print(myfavoritenumbers[0])\n",
    "print(myfavoritenumbers[1])\n",
    "print(myfavoritenumbers[2])\n",
    "print(myfavoritenumbers[3])\n",
    "print(myfavoritenumbers[4])\n",
    "print(myfavoritenumbers[5])\n",
    "print(myfavoritenumbers[6])\n",
    "print(myfavoritenumbers[7])\n",
    "print(myfavoritenumbers[8])\n",
    "print(myfavoritenumbers[9])\n",
    "print(myfavoritenumbers[10])\n",
    "print(myfavoritenumbers[11])\n",
    "print(myfavoritenumbers[12])\n",
    "print(myfavoritenumbers[13])"
   ]
  },
  {
   "cell_type": "markdown",
   "metadata": {},
   "source": [
    "Wow! That unequivocally sucked! Let's never do that ever again! A better way to do that would be if there were a way to have the computer do the same thing over and over again (maybe with a small difference each time). If that were a thing, I would call it a loop. *crackle* Excuse me? That exists? Wow, just my luck! Let's try it out to print all  myfavoritenumbers:"
   ]
  },
  {
   "cell_type": "code",
   "execution_count": null,
   "metadata": {},
   "outputs": [],
   "source": [
    "for n in myfavoritenumbers:\n",
    "    print n"
   ]
  },
  {
   "cell_type": "markdown",
   "metadata": {},
   "source": [
    "That worked incredibly well! It's similar to the format of a function, except we have \"n\" the iterating variable, which goes through every element \"in\" the list (and then a colon), and then inside (indented once) we print n, the element in our list. What if we only want to print the first five of myfavoritenumbers? Well, let's try this:"
   ]
  },
  {
   "cell_type": "code",
   "execution_count": null,
   "metadata": {},
   "outputs": [],
   "source": [
    "for n in [0,1,2,3,4]:\n",
    "    print(myfavoritenumbers[n])"
   ]
  },
  {
   "cell_type": "markdown",
   "metadata": {},
   "source": [
    "Wow, that was loopy! What happened? Well n started at 0 and then our code printed myfavoritenumbers[0]. Then n automatically went to 1 and the code printed myfavoritenumbers[1]. All the way to n=4 and we printed myfavoritenumbers[4].  Now try printing the first two items in our list legalSeaFoods.  Can you think of two ways to do this?"
   ]
  },
  {
   "cell_type": "code",
   "execution_count": null,
   "metadata": {},
   "outputs": [],
   "source": [
    "print(legalSeaFoods[0])\n",
    "print(legalSeaFoods[1])"
   ]
  },
  {
   "cell_type": "markdown",
   "metadata": {},
   "source": [
    "Or using the \"for\" loop:"
   ]
  },
  {
   "cell_type": "code",
   "execution_count": null,
   "metadata": {},
   "outputs": [],
   "source": [
    "for n in [0,1]:\n",
    "    print(legalSeaFoods[n])"
   ]
  },
  {
   "cell_type": "markdown",
   "metadata": {},
   "source": [
    "All we did was, instead of counting (iterating) n through the legal numbers, we iterated through the integers 0 and 1. Then, we printed the nth element of the legalSeaFoods each time."
   ]
  },
  {
   "cell_type": "markdown",
   "metadata": {},
   "source": [
    "Shall we try adding up all my favorite numbers? Can you create a for loop to do that?"
   ]
  },
  {
   "cell_type": "code",
   "execution_count": null,
   "metadata": {},
   "outputs": [],
   "source": [
    "total = 0\n",
    "for n in myfavoritenumbers:\n",
    "    total = total + n\n",
    "print(total)"
   ]
  },
  {
   "cell_type": "markdown",
   "metadata": {},
   "source": [
    "Now that we TOTALLY understand the \"for\" loop, lets learn about the \"while\" loop.  A \"while\" loop allows you to repeat a block of code until a condition is no longer true.  Here's an example where we will count Mississippi's until we get to 10 Mississippi"
   ]
  },
  {
   "cell_type": "code",
   "execution_count": null,
   "metadata": {},
   "outputs": [],
   "source": [
    "n=0\n",
    "while (n < 10):\n",
    "    n=n+1\n",
    "    print(n,\"Mississippi\")"
   ]
  },
  {
   "cell_type": "markdown",
   "metadata": {},
   "source": [
    "Can you create a loop that counts even Mississippi's up to 20? "
   ]
  },
  {
   "cell_type": "code",
   "execution_count": null,
   "metadata": {},
   "outputs": [],
   "source": [
    "n=0\n",
    "while (n<20):\n",
    "    n=n+2\n",
    "    print(n,\"Mississippi\")"
   ]
  },
  {
   "cell_type": "markdown",
   "metadata": {},
   "source": [
    "Now lets create a function with loops. How about a function that counts the number of vowels in a string."
   ]
  },
  {
   "cell_type": "code",
   "execution_count": null,
   "metadata": {},
   "outputs": [],
   "source": [
    "def count_vowels(mystring):\n",
    "    num_vowels=0\n",
    "    vowels = \"aeiouAEIOU\"\n",
    "    \n",
    "    for char in mystring:\n",
    "        if char in vowels:\n",
    "            num_vowels += 1 # fancy way of writing num_vowels = num_vowels + 1\n",
    "    return num_vowels"
   ]
  },
  {
   "cell_type": "markdown",
   "metadata": {},
   "source": [
    "Remember to put your string in quotes when you call the function count_vowels!"
   ]
  },
  {
   "cell_type": "markdown",
   "metadata": {},
   "source": [
    "And that's it! You now know enough about coding to get into Harvard (if your parents have a couple million dollars to spare for a \"timely donation\"). Good luck!"
   ]
  }
 ],
 "metadata": {
  "kernelspec": {
   "display_name": "Python 3",
   "language": "python",
   "name": "python3"
  },
  "language_info": {
   "codemirror_mode": {
    "name": "ipython",
    "version": 3
   },
   "file_extension": ".py",
   "mimetype": "text/x-python",
   "name": "python",
   "nbconvert_exporter": "python",
   "pygments_lexer": "ipython3",
   "version": "3.6.7"
  }
 },
 "nbformat": 4,
 "nbformat_minor": 2
}
