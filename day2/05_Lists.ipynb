{
 "cells": [
  {
   "cell_type": "markdown",
   "metadata": {},
   "source": [
    "# Lists"
   ]
  },
  {
   "cell_type": "markdown",
   "metadata": {},
   "source": [
    "A list is a data structure that is a mutable, or changeable, ordered sequence of elements. Each element or value that is inside of a list is called an item. Lists are great for working with a set of data or many related values. They enable you to keep data together in one place, condense your code, and perform the same methods and operations on multiple values at once."
   ]
  },
  {
   "cell_type": "markdown",
   "metadata": {},
   "source": [
    "### Strings"
   ]
  },
  {
   "cell_type": "markdown",
   "metadata": {},
   "source": [
    "Strings `str` are not lists since they are immutable (can not be changed after innitialization). However, we are traching `str` first because it is easier to understand than a list, and many of its concepts can be applied directly to a list. A `str` is a sequence of characters, and it behaves almost exactly like a list except that it is immutable."
   ]
  },
  {
   "cell_type": "markdown",
   "metadata": {},
   "source": [
    "Strings `str` are surrounded by either single `'` or double `\"` quotation marks, but it can't be one of each. Almost every character can be in a `str` except for one of the quotation marks, `'` or `\"`. If your `str` was surrounded with `'`, then only `'` can't be an item in the `str`, similarly, `\"` can't be used if it (`\"`) surrounds the `str`. Below are some valid examples"
   ]
  },
  {
   "cell_type": "code",
   "execution_count": null,
   "metadata": {},
   "outputs": [],
   "source": [
    "#Valid Strings\n",
    "'abcendef'\n",
    "\"9217\"\n",
    "\"8jd3\"\n",
    "\"8_293jif\"\n",
    "\"\\][}{}]\"\n",
    "')(*&^%$#@!)'\n",
    "\"?>.<,:;{[}]|\\+=_-9s}\""
   ]
  },
  {
   "cell_type": "markdown",
   "metadata": {},
   "source": [
    "Here are some invalid examples that includes the mistakes mentioned above. You should except an error message."
   ]
  },
  {
   "cell_type": "code",
   "execution_count": null,
   "metadata": {},
   "outputs": [],
   "source": [
    "#Invalid Strings\n",
    "\"jfid'\n",
    "'190383838\"\n",
    "\"hello\"world\"\n",
    "'I am' a mistake'"
   ]
  },
  {
   "cell_type": "markdown",
   "metadata": {},
   "source": [
    "#### Indexing"
   ]
  },
  {
   "cell_type": "markdown",
   "metadata": {},
   "source": [
    "We can access indivial items of a `str`, or list, by specifying the __index__ of that item, which is a set of unique integers that specify the locations of each member within a `str` or list. The first item in a `str` has an index of `0`, the second is `1`, and so on."
   ]
  },
  {
   "cell_type": "markdown",
   "metadata": {},
   "source": [
    "Consider the string `RaceCar`. The following diagram shows the coreesponding indices for each item.\n",
    "```\n",
    "0 → R\n",
    "1 → a\n",
    "2 → c\n",
    "3 → e\n",
    "4 → C\n",
    "5 → a\n",
    "6 → r\n",
    "```\n",
    "Square brackets `[]` are used to retrive an item at the specified index. The format is `sequence[index]`. Take a look at these examples:"
   ]
  },
  {
   "cell_type": "code",
   "execution_count": null,
   "metadata": {},
   "outputs": [],
   "source": [
    "my_str = \"RaceCar\"\n",
    "my_str[3] #Check the outputs with the above diagram"
   ]
  },
  {
   "cell_type": "code",
   "execution_count": null,
   "metadata": {},
   "outputs": [],
   "source": [
    "my_str = \"RaceCar\"\n",
    "my_str[0] #Check the outputs with the above diagram"
   ]
  },
  {
   "cell_type": "code",
   "execution_count": null,
   "metadata": {},
   "outputs": [],
   "source": [
    "my_str = \"Hello_World\"\n",
    "my_str[7] #Try and guess the output before you run the code."
   ]
  },
  {
   "cell_type": "markdown",
   "metadata": {},
   "source": [
    "#### Negative Indexing"
   ]
  },
  {
   "cell_type": "markdown",
   "metadata": {},
   "source": [
    "Items can also be specified by negative numbers. The last item has an index of `-1`, the second to last is `-2`, and so on. An item can be called by either indices, positive or negative. Consider the string `RaceCar` again. The following diagram shows the coreesponding negative indices for each item.\n",
    "```\n",
    "-7 → R\n",
    "-6 → a\n",
    "-5 → c\n",
    "-4 → e\n",
    "-3 → C\n",
    "-2 → a\n",
    "-1 → r\n",
    "```\n",
    "Here are some examples"
   ]
  },
  {
   "cell_type": "code",
   "execution_count": null,
   "metadata": {},
   "outputs": [],
   "source": [
    "my_str = \"RaceCar\"\n",
    "my_str[-1] #Check the outputs with the above diagram"
   ]
  },
  {
   "cell_type": "code",
   "execution_count": null,
   "metadata": {},
   "outputs": [],
   "source": [
    "my_str = \"RaceCar\"\n",
    "my_str[-4] #Check the outputs with the above diagram"
   ]
  },
  {
   "cell_type": "code",
   "execution_count": null,
   "metadata": {},
   "outputs": [],
   "source": [
    "my_str = \"RaceCar\"\n",
    "print \"Postive Index: \", my_str[3]\n",
    "print \"Negative Index: \", my_str[-4]\n",
    "#Note how both indices point to the same item."
   ]
  },
  {
   "cell_type": "markdown",
   "metadata": {},
   "source": [
    "#### Slicing"
   ]
  },
  {
   "cell_type": "markdown",
   "metadata": {},
   "source": [
    "Slicing retrieves a subsequence of items from a `str` or a list by using indexing. A slice consists of a start index, stop index, and step size. \n",
    "\n",
    "| Slicing Operators | Definition                                         |\n",
    "|-------------------|----------------------------------------------------|\n",
    "| Start Index       | The index at which the slice begins(Inclusive)     |\n",
    "| Stop Index        | The index at which the slice ends(Exclusive)       |\n",
    "| Step Size         | Takes items at indices that are multiples of stepsize and within the start and stop bounds. |\n",
    "Note: For calculating stepsize, since indices start at 0, one needs to be added to every index in order for the math to work out. Alternitavely, you can think of step size as taking every nth item(step size = nth)."
   ]
  },
  {
   "cell_type": "markdown",
   "metadata": {},
   "source": [
    "The format for slicing is `seq[start:stop:step]`. It uses colons to separate the start, stop, and step values. Below are some examples:"
   ]
  },
  {
   "cell_type": "code",
   "execution_count": 2,
   "metadata": {},
   "outputs": [
    {
     "data": {
      "text/plain": [
       "'abcdefghi'"
      ]
     },
     "execution_count": 2,
     "metadata": {},
     "output_type": "execute_result"
    }
   ],
   "source": [
    "my_str = \"abcdefghijk\"\n",
    "my_str[0: 9: 1] #Every item from indices 0 to 8 (End Value is exclusive)"
   ]
  },
  {
   "cell_type": "code",
   "execution_count": null,
   "metadata": {},
   "outputs": [],
   "source": [
    "my_str[0: 9: 2] #Every second item from indices 0 to 8."
   ]
  },
  {
   "cell_type": "code",
   "execution_count": null,
   "metadata": {},
   "outputs": [],
   "source": [
    "my_str[2: 7: 1] #Every item from indices 2 to 6."
   ]
  },
  {
   "cell_type": "code",
   "execution_count": null,
   "metadata": {},
   "outputs": [],
   "source": [
    "my_str[-4: -1: 1] #Every item from indices -4 to -2."
   ]
  },
  {
   "cell_type": "markdown",
   "metadata": {},
   "source": [
    "A negative step-size is used to select a sequence in reveresed order."
   ]
  },
  {
   "cell_type": "code",
   "execution_count": 13,
   "metadata": {},
   "outputs": [
    {
     "data": {
      "text/plain": [
       "'kjihgfedcba'"
      ]
     },
     "execution_count": 13,
     "metadata": {},
     "output_type": "execute_result"
    }
   ],
   "source": [
    "my_str[::-1]"
   ]
  },
  {
   "cell_type": "markdown",
   "metadata": {},
   "source": [
    "Slicing provides default start, stop, and step values. They are:\n",
    "\n",
    "* start: 0\n",
    "* stop: Length of the sequence(How many members are in the string/list)\n",
    "* step: 1\n",
    "\n",
    "Any of these values omitted in ites entry will be set to the default value. The second colon can be omitted entirely, and the slice will use a step size of 1."
   ]
  },
  {
   "cell_type": "code",
   "execution_count": null,
   "metadata": {},
   "outputs": [],
   "source": [
    "my_str[:3] #Same as: [0:3:1]"
   ]
  },
  {
   "cell_type": "code",
   "execution_count": null,
   "metadata": {},
   "outputs": [],
   "source": [
    "my_str[3:] #same as: [3:0:1]"
   ]
  },
  {
   "cell_type": "code",
   "execution_count": null,
   "metadata": {},
   "outputs": [],
   "source": [
    "my_str[::2] #same as: [0: 11: 2] (11 is the length of my_str)"
   ]
  },
  {
   "cell_type": "markdown",
   "metadata": {},
   "source": [
    "#### Bounds"
   ]
  },
  {
   "cell_type": "markdown",
   "metadata": {},
   "source": [
    "Strings and lists have a finite amount of members. So an error will be raised if an out-of-bounds index is attempted to be accessed. For example:"
   ]
  },
  {
   "cell_type": "code",
   "execution_count": null,
   "metadata": {},
   "outputs": [],
   "source": [
    "my_str = \"I only have 20 items\"\n",
    "my_str[21] #out of bounds index"
   ]
  },
  {
   "cell_type": "code",
   "execution_count": null,
   "metadata": {},
   "outputs": [],
   "source": [
    "my_str[-21] #Same for negative indexing"
   ]
  },
  {
   "cell_type": "markdown",
   "metadata": {},
   "source": [
    "## Working with Strings/Lists"
   ]
  },
  {
   "cell_type": "markdown",
   "metadata": {},
   "source": [
    "#### Length"
   ]
  },
  {
   "cell_type": "markdown",
   "metadata": {},
   "source": [
    "Returns the number of members in a `str` or list. Syntax: `len(sequence)`."
   ]
  },
  {
   "cell_type": "code",
   "execution_count": null,
   "metadata": {},
   "outputs": [],
   "source": [
    "len(\"America\")"
   ]
  },
  {
   "cell_type": "code",
   "execution_count": null,
   "metadata": {},
   "outputs": [],
   "source": [
    "len(\"Canada\")"
   ]
  },
  {
   "cell_type": "code",
   "execution_count": null,
   "metadata": {},
   "outputs": [],
   "source": [
    "len(\"China\")"
   ]
  },
  {
   "cell_type": "markdown",
   "metadata": {},
   "source": [
    "#### Membership Checking"
   ]
  },
  {
   "cell_type": "markdown",
   "metadata": {},
   "source": [
    "There are two operators that check for membership, `in` and `not in`."
   ]
  },
  {
   "cell_type": "markdown",
   "metadata": {},
   "source": [
    "`in` follows the format `variable in sequence`. The operator returns `True` if it finds the variable in the specified sequence, and it returns `False` otherwise. `not in` is the exact opposite of `in`. What do you think the code block below will print out?"
   ]
  },
  {
   "cell_type": "code",
   "execution_count": null,
   "metadata": {},
   "outputs": [],
   "source": [
    "x = \"a\"\n",
    "y = \"abced\" # Feel free to play around and change x or y.\n",
    "\n",
    "print \" 'in' returns: \", x in y, \". 'Not in' returns: \", x not in y"
   ]
  },
  {
   "cell_type": "markdown",
   "metadata": {},
   "source": [
    "#### Finding the Index"
   ]
  },
  {
   "cell_type": "markdown",
   "metadata": {},
   "source": [
    "Returns the Index of the first instance of an item in a `str` or list. Syntax: `sequence.index(item)`."
   ]
  },
  {
   "cell_type": "code",
   "execution_count": null,
   "metadata": {},
   "outputs": [],
   "source": [
    "your_str = \"Puppies\"\n",
    "your_str.index(\"p\")"
   ]
  },
  {
   "cell_type": "code",
   "execution_count": null,
   "metadata": {},
   "outputs": [],
   "source": [
    "your_str.index(\"i\")"
   ]
  },
  {
   "cell_type": "code",
   "execution_count": null,
   "metadata": {},
   "outputs": [],
   "source": [
    "your_str.index(\"s\")"
   ]
  },
  {
   "cell_type": "markdown",
   "metadata": {},
   "source": [
    "Note: `in` and `index()` are not the same. `in` only checks if an item is in your sequence, and `index()` assumes an item is in the sequence and returns the index of said item. `index()` will throw an error if it is asked to find the index of an item not in the sequence."
   ]
  },
  {
   "cell_type": "code",
   "execution_count": null,
   "metadata": {},
   "outputs": [],
   "source": [
    "your_str.index(\"9\") #9 is not in your_str"
   ]
  },
  {
   "cell_type": "markdown",
   "metadata": {},
   "source": [
    "#### Concatenation"
   ]
  },
  {
   "cell_type": "markdown",
   "metadata": {},
   "source": [
    "Returns a new string/list that is the combination of two sequences. Syntax: `new_string = string1 + string2`"
   ]
  },
  {
   "cell_type": "code",
   "execution_count": null,
   "metadata": {},
   "outputs": [],
   "source": [
    "\"The Cat in\" + \" the Hat\""
   ]
  },
  {
   "cell_type": "code",
   "execution_count": 14,
   "metadata": {},
   "outputs": [
    {
     "name": "stdout",
     "output_type": "stream",
     "text": [
      "Boots and Cats and Boots and Cats and Boots and Cats and Boots and Cats and Boots and Cats and Boots and Cats and Boots and Cats and Boots and Cats and \n"
     ]
    }
   ],
   "source": [
    "a = \"Boots and \"\n",
    "b = \"Cats and \"\n",
    "c = a + b\n",
    "print 8*c #Prints eight of c."
   ]
  },
  {
   "cell_type": "markdown",
   "metadata": {},
   "source": [
    "### Finally, Lists"
   ]
  },
  {
   "cell_type": "markdown",
   "metadata": {},
   "source": [
    "You have already been introduced to lists at the start of this notebook. Now you will apply your knowledge of strings unto lists. Note: lists are also called arrays."
   ]
  },
  {
   "cell_type": "markdown",
   "metadata": {},
   "source": [
    "Just as strings are defined as characters in quotes, Lists are defined by having items separated by commas `,` in between square brackets `[]`. Lists are great for storing a set items with multiple data types. The syntax is `[item_1, item_2, item_3, ..., item_n-1, item_n]` Here are a few examples:"
   ]
  },
  {
   "cell_type": "code",
   "execution_count": null,
   "metadata": {},
   "outputs": [],
   "source": [
    "[\"a\", 3, 3.4, \"b\", True, False] #You can store all types of data, even strings.\n",
    "[3, 5, 2, 2, 5] #Just numbers\n",
    "[[3, 4], [], [\"wow\"], 19] #You can even store lists in lists(Don't worry about this)"
   ]
  },
  {
   "cell_type": "markdown",
   "metadata": {},
   "source": [
    "All the functions mentioned above accepts lists."
   ]
  },
  {
   "cell_type": "code",
   "execution_count": null,
   "metadata": {},
   "outputs": [],
   "source": [
    "my_list = [\"a\", 3, 3.4, \"b\", True, False]"
   ]
  },
  {
   "cell_type": "code",
   "execution_count": null,
   "metadata": {},
   "outputs": [],
   "source": [
    "my_list[3] # Index"
   ]
  },
  {
   "cell_type": "code",
   "execution_count": null,
   "metadata": {},
   "outputs": [],
   "source": [
    "my_list[1:-2] # Slice"
   ]
  },
  {
   "cell_type": "code",
   "execution_count": null,
   "metadata": {},
   "outputs": [],
   "source": [
    "len(my_list) # Length"
   ]
  },
  {
   "cell_type": "code",
   "execution_count": null,
   "metadata": {},
   "outputs": [],
   "source": [
    "False in my_list # Membership"
   ]
  },
  {
   "cell_type": "code",
   "execution_count": null,
   "metadata": {},
   "outputs": [],
   "source": [
    "my_list.index(3.4) # Index_of"
   ]
  },
  {
   "cell_type": "code",
   "execution_count": null,
   "metadata": {},
   "outputs": [],
   "source": [
    "my_list + [\"string\", 3.14] #Concatenation"
   ]
  },
  {
   "cell_type": "markdown",
   "metadata": {},
   "source": [
    "#### Item reassignment"
   ]
  },
  {
   "cell_type": "markdown",
   "metadata": {},
   "source": [
    "Unlike a string, a list can be changed. The syntax is `list[index] = value`. The new value will replace the old one at its specified index. For example: "
   ]
  },
  {
   "cell_type": "code",
   "execution_count": null,
   "metadata": {},
   "outputs": [],
   "source": [
    "x = [9, '1', 89, \"python\", True, [], 1, 'hello'] #Initializing the list\n",
    "print x"
   ]
  },
  {
   "cell_type": "code",
   "execution_count": null,
   "metadata": {},
   "outputs": [],
   "source": [
    "x[3] = \"java\" #replacing \"python\" with \"java\"\n",
    "print x"
   ]
  },
  {
   "cell_type": "code",
   "execution_count": null,
   "metadata": {},
   "outputs": [],
   "source": [
    "x[4] = False #replacing Trut with False.\n",
    "print x"
   ]
  },
  {
   "cell_type": "markdown",
   "metadata": {},
   "source": [
    "## Exercises"
   ]
  },
  {
   "cell_type": "markdown",
   "metadata": {},
   "source": [
    "Get ready to test your reading comprehension. Good luck!"
   ]
  },
  {
   "cell_type": "markdown",
   "metadata": {},
   "source": [
    "#### Greetings"
   ]
  },
  {
   "cell_type": "markdown",
   "metadata": {},
   "source": [
    "Given a string name such as \"Dan\", return a greeting of the form \"Hello Dan!\". You have already learned functions from the previous notebook."
   ]
  },
  {
   "cell_type": "code",
   "execution_count": null,
   "metadata": {},
   "outputs": [],
   "source": [
    "def greetings (name)\n",
    "    #Student code here. Return a string.\n",
    "    \n",
    "    \n",
    "    return #This is just here for syntax. Delete it once your code is complete.\n",
    "print greetings(\"Dan\") #manually check your answers, change around name."
   ]
  },
  {
   "cell_type": "markdown",
   "metadata": {},
   "source": [
    "#### Middle String"
   ]
  },
  {
   "cell_type": "markdown",
   "metadata": {},
   "source": [
    "Given 2 strings, a and b, return a string of the form short+long+short, with the shorter string on the outside and the longer string on the inside. If the strings are the same length, then just print a + b. The strings may also be empty (`len(str) = 0`)."
   ]
  },
  {
   "cell_type": "code",
   "execution_count": null,
   "metadata": {},
   "outputs": [],
   "source": [
    "def middle_string (a, b): \n",
    "    #Student code here. Return a string.\n",
    "    \n",
    "    \n",
    "    return #This is just here for syntax. Delete it once your code is complete.\n",
    "    \n",
    "print middle_string(\"hello\", \"hi\") #manually check your answers, change around a and b."
   ]
  },
  {
   "cell_type": "markdown",
   "metadata": {},
   "source": [
    "#### Common ends"
   ]
  },
  {
   "cell_type": "markdown",
   "metadata": {},
   "source": [
    "Given 2 lists, a and b, return True if they have the same first element or they have the same last element. Both arrays will have length 1 or more."
   ]
  },
  {
   "cell_type": "code",
   "execution_count": null,
   "metadata": {},
   "outputs": [],
   "source": [
    "def common_ends (a, b):\n",
    "    #Student code here. Return a boolean.\n",
    "    \n",
    "    \n",
    "    return #This is just here for syntax. Delete it once your code is complete.\n",
    "    \n",
    "print common_ends([1, \"jfio\", 9, 0, 9, 2, 1, \"same\"], [1, \"same\"]) #manually check your answers, change around a and b."
   ]
  },
  {
   "cell_type": "markdown",
   "metadata": {},
   "source": [
    "#### Reverse_Sum"
   ]
  },
  {
   "cell_type": "markdown",
   "metadata": {},
   "source": [
    "Given 2 lists, a and b, return an array containing a + b in reverse order. "
   ]
  },
  {
   "cell_type": "code",
   "execution_count": null,
   "metadata": {},
   "outputs": [],
   "source": [
    "def reverse_sum (a, b):\n",
    "    #Student code here. Return an array.\n",
    "    \n",
    "    \n",
    "    return #This is just here for syntax. Delete it once your code is complete.\n",
    "    \n",
    "print reverse_sum([2, 4, 1, \"a\", \"9\", \"b\"], [False, \"First_item\"]) #manually check your answers, change around a and b."
   ]
  },
  {
   "cell_type": "markdown",
   "metadata": {},
   "source": [
    "#### zero_padding"
   ]
  },
  {
   "cell_type": "markdown",
   "metadata": {},
   "source": [
    "Given an integer array(list) and an integer, a and n, return an array with n number of zeroes `0` at both ends of a. For example:\n",
    "\n",
    "`zero_padding([9.3, 8, 1, 3, -4], 2)` should return `[0, 0, 9.3, 8, 1, 3, -4, 0, 0]`"
   ]
  },
  {
   "cell_type": "code",
   "execution_count": null,
   "metadata": {},
   "outputs": [],
   "source": [
    "def zero_padding (a, n):\n",
    "    #Student code here. Return an array.\n",
    "    \n",
    "    \n",
    "    return #This is just here for syntax. Delete it once your code is complete.\n",
    "    \n",
    "print zero_padding([-5, 120, -45, 98, 180, 359], 3) #manually check your answers, change around a and n."
   ]
  }
 ],
 "metadata": {
  "kernelspec": {
   "display_name": "Python 2",
   "language": "python",
   "name": "python2"
  },
  "language_info": {
   "codemirror_mode": {
    "name": "ipython",
    "version": 2
   },
   "file_extension": ".py",
   "mimetype": "text/x-python",
   "name": "python",
   "nbconvert_exporter": "python",
   "pygments_lexer": "ipython2",
   "version": "2.7.16"
  }
 },
 "nbformat": 4,
 "nbformat_minor": 2
}
