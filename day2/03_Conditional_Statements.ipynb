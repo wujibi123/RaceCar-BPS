{
 "cells": [
  {
   "cell_type": "markdown",
   "metadata": {},
   "source": [
    "## Conditional Statements"
   ]
  },
  {
   "cell_type": "markdown",
   "metadata": {},
   "source": [
    "In this section, you will learn to use the `if`, `else`, and `elif` statements. These allow you to execute blocks of code if a specified condition is found to be true, or execute alternate code if the condition is false. Just as a sneak preview, the code below will add double `n` if it is even, and triple `n` if it is odd."
   ]
  },
  {
   "cell_type": "code",
   "execution_count": null,
   "metadata": {
    "scrolled": false
   },
   "outputs": [],
   "source": [
    "n = raw_input(\"Enter a number: \") #input() returns your keyboard inputs\n",
    "n = float(n) #Makes n a float\n",
    "\n",
    "if n%2 != 0:\n",
    "    n = n * 3\n",
    "else:\n",
    "    n = n * 2\n",
    "\n",
    "print n"
   ]
  },
  {
   "cell_type": "markdown",
   "metadata": {},
   "source": [
    "Conditional statements evaluates the 'boolean' value of the condition, which are `True` and `False`. You should be famliar with `bool` because it has already been introduced in the data types section. We will teach you two types of conditions, comparison operations and membership checking, that returns a `bool` type."
   ]
  },
  {
   "cell_type": "markdown",
   "metadata": {},
   "source": [
    "#### Comparison Operations"
   ]
  },
  {
   "cell_type": "markdown",
   "metadata": {},
   "source": [
    "There are 6 types of Comparison Operations."
   ]
  },
  {
   "cell_type": "markdown",
   "metadata": {},
   "source": [
    "| Operation|        Meaning        |\n",
    "| ---|:---------------------------:|\n",
    "| `>`  | Greater than              |\n",
    "| `>=` | Greater than or equal     |\n",
    "| `<`  | Less than                 |\n",
    "| `<=` | Less than or equal        |\n",
    "| `==` | Equal                     |\n",
    "| `!=` | Not equal                 |"
   ]
  },
  {
   "cell_type": "markdown",
   "metadata": {},
   "source": [
    "The 6 operations are used commonly in mathematics, and they requir no further explanation. The inequalities have been touched upon in the previous section, and this is an extension of it. However, beware that `==` and `=` are very different. `==` is a comparison, while `=` is used to assign variables. Try running the code block below."
   ]
  },
  {
   "cell_type": "code",
   "execution_count": null,
   "metadata": {},
   "outputs": [],
   "source": [
    "n = 2\n",
    "if n = 2:\n",
    "    print \"n is two\"\n",
    "else:\n",
    "    print \"n is not two\""
   ]
  },
  {
   "cell_type": "markdown",
   "metadata": {},
   "source": [
    "You should have recieved an error saying 'invalid syntax'. Now, try running this code block."
   ]
  },
  {
   "cell_type": "code",
   "execution_count": null,
   "metadata": {},
   "outputs": [],
   "source": [
    "n = 3\n",
    "if n == 2:\n",
    "    print \"n is two\"\n",
    "else:\n",
    "    print \"n is not two\""
   ]
  },
  {
   "cell_type": "markdown",
   "metadata": {},
   "source": [
    "#### Boolean Operations"
   ]
  },
  {
   "cell_type": "markdown",
   "metadata": {},
   "source": [
    "Boolean operations extend the uses of comparison operations and membership checking. There are three types boolean operations, and they are `and`, `or`, and `not`."
   ]
  },
  {
   "cell_type": "markdown",
   "metadata": {},
   "source": [
    "`and` follows the format `<bool> and <bool>`. If both booleans are `True`, then `and` returns `True`. "
   ]
  },
  {
   "cell_type": "code",
   "execution_count": null,
   "metadata": {},
   "outputs": [],
   "source": [
    "print (1 < 2) and (3 == 3) # Both True\n",
    "print (1 == 1) and (0 > 3) # Left is True, right is False\n",
    "print (1 == \"1\") and (0b1000101 == \"Binary\") # Both False"
   ]
  },
  {
   "cell_type": "markdown",
   "metadata": {},
   "source": [
    "`or` follows the format `<bool> or <bool>`. If just one of the booleans are `True`, then `or` returns `True`. `or` returns `False` only if both booleans are `False`."
   ]
  },
  {
   "cell_type": "code",
   "execution_count": null,
   "metadata": {},
   "outputs": [],
   "source": [
    "print (1 < 2) or (3 == 3) # Both True\n",
    "print (1 == 1) or (0 > 3) # Left is True, right is False\n",
    "print (\"CompSci\" == \"Cool\") or (\"PythonLike\" == \"YouMeanIt\") # Both False"
   ]
  },
  {
   "cell_type": "markdown",
   "metadata": {},
   "source": [
    "`not` follows the format `not <bool>`. `not` returns `False` if the boolean is `True`, and vice versa."
   ]
  },
  {
   "cell_type": "code",
   "execution_count": null,
   "metadata": {},
   "outputs": [],
   "source": [
    "print not False\n",
    "print not True\n",
    "print not (3 in [0, 'Python', 5, 2, \"Like\", 10, \"You\", 387, 4, \"Mean\", 10, \"it\", 29])"
   ]
  },
  {
   "cell_type": "markdown",
   "metadata": {},
   "source": [
    "### `if`, `else`, and `elif` statements"
   ]
  },
  {
   "cell_type": "markdown",
   "metadata": {},
   "source": [
    "`if`, `else`, and `elif` are simple and powerful conditional statements. This allows our programs to react to a variety of situations and create branches in our code. For instance, in an autonomous racecar, you might want the car to slow down and then stop if it drives too close to a wall. A simplified representation of this feature is this:\n",
    "\n",
    "```python\n",
    "if distance_from_wall < 10:\n",
    "    racecar.break()\n",
    "elif 10 < distance_from_wall < 20:\n",
    "    racecar.slowdown()\n",
    "else:\n",
    "    racecar.drive()\n",
    "```"
   ]
  },
  {
   "cell_type": "markdown",
   "metadata": {},
   "source": [
    "#### Format"
   ]
  },
  {
   "cell_type": "markdown",
   "metadata": {},
   "source": [
    "The conditional statements must end with a semicolon `:`, and their blocks of code are separated by white spaces. The following Pseudo code is a general template for conditional statements."
   ]
  },
  {
   "cell_type": "markdown",
   "metadata": {},
   "source": [
    "```python\n",
    "if <expression_1>:\n",
    "    the code within this indented block is executed if..\n",
    "    - <expression_1> is True\n",
    "elif <expression_2>:\n",
    "    the code within this indented block is executed if..\n",
    "     - <expression_1> was False\n",
    "     - <expression_2> is True\n",
    "...\n",
    "...\n",
    "elif <expression_n>:\n",
    "    the code within this indented block is executed if..\n",
    "      - <expression_1> was False\n",
    "      - <expression_2> was False\n",
    "      ...\n",
    "      ...\n",
    "      - <expression_n-1> was False\n",
    "      - <expression_n> is True\n",
    "else:\n",
    "    the code within this indented block is executed only if\n",
    "    all preceding expressions were False\n",
    "```\n",
    "   (_Adapted from_ [_Python Like You Mean It_](https://www.pythonlikeyoumeanit.com/Module2_EssentialsOfPython/ConditionalStatements.html))"
   ]
  },
  {
   "cell_type": "markdown",
   "metadata": {},
   "source": [
    "#### Table and Definition"
   ]
  },
  {
   "cell_type": "markdown",
   "metadata": {},
   "source": [
    "| Statement|        Meaning        |\n",
    "| ---|:---------------------------:|\n",
    "| `if`  | Executes code block if condition returns `True`|\n",
    "| `elif` | Executes code block if all above conditional statements returned `False` and this statement returns `True`.|\n",
    "| `else`  | Executes code block if all conditional statements returned `False`|"
   ]
  },
  {
   "cell_type": "markdown",
   "metadata": {},
   "source": [
    "#### Example"
   ]
  },
  {
   "cell_type": "markdown",
   "metadata": {},
   "source": [
    "The minimum requirment for a conditional statement is a single `if` statement. `elif` and `else` can then be independently added on to the statement. We will use a single `if` statement to determine if a number, x, is greater than 10."
   ]
  },
  {
   "cell_type": "code",
   "execution_count": null,
   "metadata": {},
   "outputs": [],
   "source": [
    "x = raw_input(\"Enter a number: \")\n",
    "x = float(x)\n",
    "\n",
    "if x > 10:\n",
    "    print \"x is greater than 10\""
   ]
  },
  {
   "cell_type": "markdown",
   "metadata": {},
   "source": [
    "Note that no action is taken if x is less than or equal to 10 because there are no `elif` or `else` statements to deal with the negative boolean. We will add an `else` statement to the code so that it replies when x is under 11."
   ]
  },
  {
   "cell_type": "code",
   "execution_count": null,
   "metadata": {},
   "outputs": [],
   "source": [
    "x = raw_input(\"Enter a number: \")\n",
    "x = float(x)\n",
    "\n",
    "if x > 10:\n",
    "    print \"x is greater than 10\"\n",
    "else:\n",
    "    print \"x is less than or equal to 10\""
   ]
  },
  {
   "cell_type": "markdown",
   "metadata": {},
   "source": [
    "This verison is definetly an improvement, but what if x is exactly 10? The script wouldn't be able to tell if x is under 10 equal to 10. We will use an `elif` statement to add this feature."
   ]
  },
  {
   "cell_type": "code",
   "execution_count": null,
   "metadata": {},
   "outputs": [],
   "source": [
    "x = raw_input(\"Enter a number: \")\n",
    "x = float(x)\n",
    "\n",
    "if x > 10:\n",
    "    print \"x is greater than 10\"\n",
    "elif x == 10: #Remember the difference between '==' and '='!\n",
    "    print \"x is equal to 10\"\n",
    "else:\n",
    "    print \"x is less than 10\""
   ]
  },
  {
   "cell_type": "markdown",
   "metadata": {},
   "source": [
    "What if x is not an integer? We will use **nested `if` statements** to check if x is an integer."
   ]
  },
  {
   "cell_type": "code",
   "execution_count": null,
   "metadata": {},
   "outputs": [],
   "source": [
    "x = raw_input(\"Enter a number: \")\n",
    "x = float(x)\n",
    "\n",
    "if isinstance(x, float): # Checks if x is a floating point number\n",
    "    if x > 10:\n",
    "        print \"x is greater than 10\"\n",
    "    elif x == 10:\n",
    "        print \"x is equal to 10\"\n",
    "    else:\n",
    "        print \"x is less than 10\"\n",
    "else:\n",
    "    print \"x is not an floating point number, it is \", type(x), \"so it can not be compared.\""
   ]
  },
  {
   "cell_type": "markdown",
   "metadata": {},
   "source": [
    "A nested `if` is an `if` statement that is the target of another `if` statement. Nested `if` statements means an `if` statement is inside another `if` statement. The nested `if` statement is part of the code block of the superior `if` statement."
   ]
  },
  {
   "cell_type": "markdown",
   "metadata": {},
   "source": [
    "Note than only one block of code within a conditional statement is executed. Only one out of the `if`, `elif`, and `else` code blocks are ran. However, multiple condional statements, as in mulptiple `if` statements, are independent from one another."
   ]
  },
  {
   "cell_type": "code",
   "execution_count": null,
   "metadata": {},
   "outputs": [],
   "source": [
    "x = raw_input(\"Enter a number: \")\n",
    "x = float(x)\n",
    "\n",
    "if x > 10:\n",
    "    print \"x is greater than 10\"\n",
    "\n",
    "if x > 5:\n",
    "    print \"x is greater than 5\"\n",
    "    \n",
    "if x < 100:\n",
    "    print \"x is less than 100\""
   ]
  },
  {
   "cell_type": "markdown",
   "metadata": {},
   "source": [
    "### Exercises"
   ]
  },
  {
   "cell_type": "markdown",
   "metadata": {},
   "source": [
    "Time to put your new knowledge into use by trying your hand on some problems. "
   ]
  },
  {
   "cell_type": "markdown",
   "metadata": {},
   "source": [
    "#### Near Ten"
   ]
  },
  {
   "cell_type": "markdown",
   "metadata": {},
   "source": [
    "Return `True` if `a` is within 2 of any mulitple of 10, and `False` otherwise."
   ]
  },
  {
   "cell_type": "code",
   "execution_count": null,
   "metadata": {},
   "outputs": [],
   "source": [
    "import random # Don't worry about this.\n",
    "a = random.randint(-100000, 100000) # Getting a random number between -100000 and 100000, keeping a small.\n",
    "print \"a: \", a # printing 'a' for you to check your answers.\n",
    "\n",
    "#Start your code here. Print out a boolean that adheres to the prompt. Check your answers manually.\n",
    "\n",
    "\n",
    "\n"
   ]
  },
  {
   "cell_type": "markdown",
   "metadata": {},
   "source": [
    "#### Tennis game"
   ]
  },
  {
   "cell_type": "markdown",
   "metadata": {},
   "source": [
    "You are playing doubles in a tennis game. The variable `you` is your tennis skill level, in the range 0 to 10. `tm` is your teammate's tennis skill level, and it is also in the range 0 to 10. Your chances of winning the game are `0` = no, `1` = maybe, and `2` = yes. If either of you is very good at tennis, `8` or more, then your chances are `2` (yes). With the exception that if either of you has a skill level of `2` or less, then your chances are `0` (no). Otherwise your chances are `1` (maybe)."
   ]
  },
  {
   "cell_type": "code",
   "execution_count": null,
   "metadata": {},
   "outputs": [],
   "source": [
    "you = random.randint(0, 10) # Getting a random number between 0 and 10.\n",
    "tm = random.randint(0, 10)\n",
    "print \"You: \", you, \" tm: \", tm # printing 'you' and 'tm' for you to check your answers.\n",
    "\n",
    "#Start your code here. You should print out your chances of winning(Either 0, 1, or 2). Check your answers manually.\n",
    "\n",
    "\n",
    "\n"
   ]
  },
  {
   "cell_type": "markdown",
   "metadata": {},
   "source": [
    "#### The Candy Party"
   ]
  },
  {
   "cell_type": "markdown",
   "metadata": {},
   "source": [
    "When squirrels get together for a party, they like to have candy. A squirrel party is successful when the number of candies is between 40 and 60, inclusive. Unless it is the weekend, in which case there is no upper bound on the number of candies. Print `True` if the party with the given values is successful, or `False` otherwise."
   ]
  },
  {
   "cell_type": "code",
   "execution_count": null,
   "metadata": {},
   "outputs": [],
   "source": [
    "candies = 0 #number of candies\n",
    "is_weekend = True #If it is the weekend. True means yes, False means no.\n",
    "#The output should be a boolean.\n",
    "\n",
    "#Student code here. Change around candies and is_weekend to check if your code is correct."
   ]
  },
  {
   "cell_type": "markdown",
   "metadata": {},
   "source": [
    "#### Lone Sum"
   ]
  },
  {
   "cell_type": "markdown",
   "metadata": {},
   "source": [
    "Given 3 `int` values, `a` `b` `c`, print their sum. However, if one of the values is the same as another of the values, it does not count towards the sum. For example, `a = 3`, `b = 2`, and `c = 2` would print out 3."
   ]
  },
  {
   "cell_type": "code",
   "execution_count": null,
   "metadata": {},
   "outputs": [],
   "source": [
    "a = random.randint(0, 5)\n",
    "b = random.randint(0, 5)\n",
    "c = random.randint(0, 5)\n",
    "print \"a: \", you, \" b: \", tm, \" c: \", c # printing 'a', 'b', and 'c' for you to check your answers.\n",
    "\n",
    "#Start your code here. You should print out the lone sum of a, b, and c. Check your answers manually.\n",
    "\n",
    "\n",
    "\n"
   ]
  },
  {
   "cell_type": "markdown",
   "metadata": {},
   "source": [
    "#### Challenge: Tiling"
   ]
  },
  {
   "cell_type": "markdown",
   "metadata": {},
   "source": [
    "We want to make a row of square tiles that is `length` inches long. We have a number of `small` tiles (1 inch side length) and `big` tiles (5 inches side length). Print `True` if it is possible to make the desired `length` by choosing from the given tiles, and `False` otherwise."
   ]
  },
  {
   "cell_type": "code",
   "execution_count": null,
   "metadata": {},
   "outputs": [],
   "source": [
    "small = 3 #Number of small tiles. These are 1 inches long\n",
    "big = 4 #Number of big tiles. These are 5 inches long\n",
    "length = 19 #The desired length.\n",
    "\n",
    "#Start your code here. You should print out a boolean that represents wheter or not the \n",
    "#given tiles can combine to reach the desired length. Manually check your answers.\n",
    "\n",
    "\n",
    "\n"
   ]
  }
 ],
 "metadata": {
  "kernelspec": {
   "display_name": "Python 2",
   "language": "python",
   "name": "python2"
  },
  "language_info": {
   "codemirror_mode": {
    "name": "ipython",
    "version": 2
   },
   "file_extension": ".py",
   "mimetype": "text/x-python",
   "name": "python",
   "nbconvert_exporter": "python",
   "pygments_lexer": "ipython2",
   "version": "2.7.16"
  }
 },
 "nbformat": 4,
 "nbformat_minor": 2
}
