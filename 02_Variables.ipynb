{
 "cells": [
  {
   "cell_type": "markdown",
   "metadata": {},
   "source": [
    "# Variables"
   ]
  },
  {
   "cell_type": "markdown",
   "metadata": {},
   "source": [
    "Variables are placeholders - they allow us to store information to be easily used and changed throughout the program. Naming a variable makes life easier because data can be retrived and mutated easily. Variables are *vari* useful and can be found in any piece of code in any language."
   ]
  },
  {
   "cell_type": "markdown",
   "metadata": {},
   "source": [
    "#### Assignment"
   ]
  },
  {
   "cell_type": "markdown",
   "metadata": {},
   "source": [
    "Variables are assigned with the `=` symbol, which is called the assignment operator. The general syntax follows as `<variable name> = <object>`. The variable name is always on the left and the object is on the right. We will only be dealing with `int`, `float`, and `string` in this section, and you should be familiar with them from the prevous section."
   ]
  },
  {
   "cell_type": "code",
   "execution_count": null,
   "metadata": {},
   "outputs": [],
   "source": [
    "#Run the following code\n",
    "name = \"Daniel\"\n",
    "print name"
   ]
  },
  {
   "cell_type": "markdown",
   "metadata": {},
   "source": [
    "See what happens when the variable name is switch with the object."
   ]
  },
  {
   "cell_type": "code",
   "execution_count": null,
   "metadata": {},
   "outputs": [],
   "source": [
    "#Run the following code\n",
    "\"Daniel\" = name #Switched\n",
    "print name"
   ]
  },
  {
   "cell_type": "markdown",
   "metadata": {},
   "source": [
    "Note how the above returns an error. Unlike in math, you cannot reverse the variable name and the value."
   ]
  },
  {
   "cell_type": "markdown",
   "metadata": {},
   "source": [
    "#### Valid names\n",
    "A variable name can only contain alphanumeric characters and the underscore `_`. The former is just a fancy word for the alphabet and the positive single digit integers (`0-9`, `a-z`, and `A-Z`). "
   ]
  },
  {
   "cell_type": "code",
   "execution_count": null,
   "metadata": {},
   "outputs": [],
   "source": [
    "earth = \"round\" # alphabet\n",
    "h3llo = 10 # alphabet + number\n",
    "var_name = 187 # alphabet + underscore\n",
    "_918301_ = \"idk\" # numbers + underscore\n",
    "_____ = \"really?\" # underscore only"
   ]
  },
  {
   "cell_type": "markdown",
   "metadata": {},
   "source": [
    "In addition, variable names can't start with numbers or contain periods. Try running the following block."
   ]
  },
  {
   "cell_type": "code",
   "execution_count": null,
   "metadata": {},
   "outputs": [],
   "source": [
    ".wrong = \"this won't work\"\n",
    "..... = \"?\"\n",
    "1978 = \"Big Brother\"\n",
    "6ix9ine = \"+4\""
   ]
  },
  {
   "cell_type": "markdown",
   "metadata": {},
   "source": [
    "They also can't be exisiting Python operators like \n",
    "\n",
    "```for, while, break, pass, continue\n",
    "in, is, not\n",
    "if, else, elif\n",
    "def, class, return, yield, raises\n",
    "import, from, as, with\n",
    "try, except, finally```\n"
   ]
  },
  {
   "cell_type": "code",
   "execution_count": null,
   "metadata": {},
   "outputs": [],
   "source": [
    "for = \"loop\"\n",
    "def = \"functions\"\n",
    "finally = \"this is an operator?\""
   ]
  },
  {
   "cell_type": "markdown",
   "metadata": {},
   "source": [
    "Talking about Using unassigned variables."
   ]
  },
  {
   "cell_type": "markdown",
   "metadata": {},
   "source": [
    "#### Reassignment"
   ]
  },
  {
   "cell_type": "markdown",
   "metadata": {},
   "source": [
    "Variables can be reassigned blah blah blah"
   ]
  },
  {
   "cell_type": "code",
   "execution_count": null,
   "metadata": {},
   "outputs": [],
   "source": [
    "#examples"
   ]
  },
  {
   "cell_type": "markdown",
   "metadata": {},
   "source": [
    "#### Assignment operations "
   ]
  },
  {
   "cell_type": "markdown",
   "metadata": {},
   "source": [
    "Assignment operations are extentions of the `=` assignment operator. They add logicial operations onto reassigning variables. These operatons have to operate on an existing variable, and they follow the format `<varible> <assignment operation> <object>`."
   ]
  },
  {
   "cell_type": "markdown",
   "metadata": {},
   "source": [
    "| Operation|        Meaning        |\n",
    "| ---|:---------------------------:|\n",
    "| `+=`  | Right value **added** to the left variable, assigning the new value to the left variable.|\n",
    "| `-=` | Right value **subtracted** from the left variable, assigning the new value to the left variable. |\n",
    "| `*=`  | Left variable **multiplied** by the right value, assigning the new value to the left variable.  |\n",
    "| `/=` | Left variable **divided** by the right value, assigning the new value to the left variable.      |\n",
    "| `**=` | Right value is the **exponent** of the left variable, assigning the new value to the left variable.|\n",
    "| `%=` | Left variable **divided** by the right value, assingning the **remainder** to the the left variable. |\n",
    "There are more operations that we are not going to cover here. "
   ]
  },
  {
   "cell_type": "markdown",
   "metadata": {},
   "source": [
    "Give examples of each. Format below."
   ]
  },
  {
   "cell_type": "markdown",
   "metadata": {},
   "source": [
    "+="
   ]
  },
  {
   "cell_type": "code",
   "execution_count": null,
   "metadata": {},
   "outputs": [],
   "source": [
    "x = 2\n",
    "x += 3\n",
    "print x"
   ]
  },
  {
   "cell_type": "markdown",
   "metadata": {},
   "source": [
    "-="
   ]
  },
  {
   "cell_type": "code",
   "execution_count": null,
   "metadata": {},
   "outputs": [],
   "source": [
    "x = 5\n",
    "x -= 3\n",
    "print x"
   ]
  },
  {
   "cell_type": "markdown",
   "metadata": {},
   "source": [
    "*="
   ]
  },
  {
   "cell_type": "code",
   "execution_count": null,
   "metadata": {},
   "outputs": [],
   "source": [
    "x = 4\n",
    "x *= 2\n",
    "print x"
   ]
  },
  {
   "cell_type": "markdown",
   "metadata": {},
   "source": [
    "/=. (beware of integer division.)"
   ]
  },
  {
   "cell_type": "code",
   "execution_count": null,
   "metadata": {},
   "outputs": [],
   "source": [
    "x = 4\n",
    "x /= 2\n",
    "print x"
   ]
  },
  {
   "cell_type": "markdown",
   "metadata": {},
   "source": [
    "**= "
   ]
  },
  {
   "cell_type": "code",
   "execution_count": null,
   "metadata": {},
   "outputs": [],
   "source": [
    "x = 3\n",
    "x **= 2\n",
    "print x"
   ]
  },
  {
   "cell_type": "markdown",
   "metadata": {},
   "source": [
    "%="
   ]
  },
  {
   "cell_type": "code",
   "execution_count": null,
   "metadata": {},
   "outputs": [],
   "source": [
    "x = 5\n",
    "x %= 2\n",
    "print x"
   ]
  },
  {
   "cell_type": "markdown",
   "metadata": {},
   "source": [
    "You can also concatenate strings with assignment operators. "
   ]
  },
  {
   "cell_type": "code",
   "execution_count": null,
   "metadata": {},
   "outputs": [],
   "source": [
    "my_string = \"Hello_\"\n",
    "your_string = \"World\"\n",
    "\n",
    "my_string += your_string\n",
    "\n",
    "print my_string"
   ]
  },
  {
   "cell_type": "markdown",
   "metadata": {},
   "source": [
    "Now, try making your own variables and printing them!"
   ]
  },
  {
   "cell_type": "code",
   "execution_count": null,
   "metadata": {},
   "outputs": [],
   "source": [
    "#Your code here"
   ]
  }
 ],
 "metadata": {
  "kernelspec": {
   "display_name": "Python 2",
   "language": "python",
   "name": "python2"
  },
  "language_info": {
   "codemirror_mode": {
    "name": "ipython",
    "version": 2
   },
   "file_extension": ".py",
   "mimetype": "text/x-python",
   "name": "python",
   "nbconvert_exporter": "python",
   "pygments_lexer": "ipython2",
   "version": "2.7.16"
  }
 },
 "nbformat": 4,
 "nbformat_minor": 2
}
