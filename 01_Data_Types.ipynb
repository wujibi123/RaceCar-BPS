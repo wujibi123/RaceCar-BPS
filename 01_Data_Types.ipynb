{
 "cells": [
  {
   "cell_type": "markdown",
   "metadata": {},
   "source": [
    "# **Data Types**\n"
   ]
  },
  {
   "cell_type": "markdown",
   "metadata": {},
   "source": [
    "## What Are Data Types?\n",
    "A data type is the way that computers classify different types of info. Humans also do this, they know the difference between a word, a letter, and a number. Computers do this is in a similar way, with decimals, numbers, letters, and true of false statements being the most common ones. "
   ]
  },
  {
   "cell_type": "markdown",
   "metadata": {},
   "source": [
    "## Integers \n",
    "Integers as you probably know are whole numbers that do not contain any decimals. This is true in python as well. You can do the four standard mathamatical operations on them as well. Integers in python can also hold an infinitely large number."
   ]
  },
  {
   "cell_type": "code",
   "execution_count": null,
   "metadata": {},
   "outputs": [],
   "source": [
    "# Here is an example of addition in python. Can you guess what the results is?\n",
    "55 + 1"
   ]
  },
  {
   "cell_type": "markdown",
   "metadata": {},
   "source": [
    "56 is the answer that you probably expected, because in python addition is exactly the same as it is in standard math. \n",
    "\n",
    "In python, multiplication and subtraction work the same way as they do in the real world as well. This means that PEMDAS is also in effect."
   ]
  },
  {
   "cell_type": "code",
   "execution_count": null,
   "metadata": {},
   "outputs": [],
   "source": [
    "55 - 1"
   ]
  },
  {
   "cell_type": "code",
   "execution_count": null,
   "metadata": {},
   "outputs": [],
   "source": [
    "# In python and many other programming languages the symbol for multiplication is \"*\".\n",
    "2 * 2"
   ]
  },
  {
   "cell_type": "markdown",
   "metadata": {},
   "source": [
    "Like you would have guessed the answer for the subraction problem is 54, and the answer for the multiplication number is 4."
   ]
  },
  {
   "cell_type": "code",
   "execution_count": null,
   "metadata": {},
   "outputs": [],
   "source": [
    "# Here is an example of PEMDAS in python\n",
    "(3 - 1) * (2 + 3)"
   ]
  },
  {
   "cell_type": "markdown",
   "metadata": {},
   "source": [
    "There is a weird thing in python with division. In python when you divide two numbers together you do something called integer division. Integer division is when the remainder is removed from the answer of a division problem. "
   ]
  },
  {
   "cell_type": "code",
   "execution_count": null,
   "metadata": {
    "scrolled": true
   },
   "outputs": [],
   "source": [
    "# Here is the first place where the math might be a little bit tricky. Also in python, \"/\" is the division symbol.\n",
    "3 / 2"
   ]
  },
  {
   "cell_type": "markdown",
   "metadata": {},
   "source": [
    "You probably have never seen that type of division before. The answer that you would have excpected in standard math is 1.5, while in python it is just one.\n",
    "\n",
    "Can you guess what the answer to problem below will be?"
   ]
  },
  {
   "cell_type": "code",
   "execution_count": null,
   "metadata": {},
   "outputs": [],
   "source": [
    "2 / 3"
   ]
  },
  {
   "cell_type": "markdown",
   "metadata": {},
   "source": [
    "If you guessed 0, then you are correct. It is 0 because 3 goes into to 2 exactly zero times, and integer division throws away the remainder. \n",
    "\n",
    "In python to do standard division with two integers you have to add a \".\" to the end of at least one of the numbers"
   ]
  },
  {
   "cell_type": "code",
   "execution_count": null,
   "metadata": {},
   "outputs": [],
   "source": [
    "3 / 2."
   ]
  },
  {
   "cell_type": "markdown",
   "metadata": {},
   "source": [
    "If you excpeted this code to be 1.5, then you would be correct. \n",
    "\n",
    "Another important mathamatical operation in python is modulo, done with the \"%\" sign. Modulo is the opposite of integer division in that it gives you only the remainder."
   ]
  },
  {
   "cell_type": "code",
   "execution_count": null,
   "metadata": {},
   "outputs": [],
   "source": [
    "# What would you expect the output of this function to be?\n",
    "3 % 2"
   ]
  },
  {
   "cell_type": "markdown",
   "metadata": {},
   "source": [
    "If you guessed 1, you would be correct. That is because after 2 goes into 3 once, the remainder is 1. "
   ]
  },
  {
   "cell_type": "code",
   "execution_count": null,
   "metadata": {},
   "outputs": [],
   "source": [
    "# What do you thinkj is the output of this code.\n",
    "2 % 3"
   ]
  },
  {
   "cell_type": "markdown",
   "metadata": {},
   "source": [
    "There are also different operations in python that you might have seen elsewhere. (I am using \"print\" and the part inside the quotation marks so the output can be matched with the expression in the output)"
   ]
  },
  {
   "cell_type": "code",
   "execution_count": null,
   "metadata": {},
   "outputs": [],
   "source": [
    "# Using two multipiclation signs together \"**\" will let you raise a number to a power. \n",
    "print '2 ** 2 =',2 ** 2\n",
    "print '2 ** 3 =',2 ** 3\n",
    "print '3 ** 2 =',3 ** 2"
   ]
  },
  {
   "cell_type": "code",
   "execution_count": null,
   "metadata": {},
   "outputs": [],
   "source": [
    "# try doing some of your own operations with integers in this box, you can also leave the parts in quotation marks out"
   ]
  },
  {
   "cell_type": "markdown",
   "metadata": {},
   "source": [
    "## Floats (decimals)\n",
    "\n",
    "Decimals in python operate mostly how you think they would. You can do operations on them like with integers, but division is always going to be how you excpect it to be. Actually, when you add the \".\" to the end of an integer to accomplish standard division, you are making it a double. You should also take note that when you do math with a double and an integer or double and double, the answer will always be a double. Even if the result is a whole number. "
   ]
  },
  {
   "cell_type": "code",
   "execution_count": null,
   "metadata": {
    "scrolled": true
   },
   "outputs": [],
   "source": [
    "# Here are a few example of operations done with floats\n",
    "print '2.5 + .5 =',2.5 + .5\n",
    "print '2.0 - .5 =',2.0 - 0.5\n",
    "print '2.0 * 5.5 =',2.0 * 5.5\n",
    "print '5.0 / 2.5 =',5.0 / 2.5"
   ]
  },
  {
   "cell_type": "markdown",
   "metadata": {},
   "source": [
    "You probably got all the answers that you excpected that you would get.\n",
    "\n",
    "This also holds true for modulo with floats"
   ]
  },
  {
   "cell_type": "code",
   "execution_count": null,
   "metadata": {},
   "outputs": [],
   "source": [
    "3.0 % 2.5"
   ]
  },
  {
   "cell_type": "markdown",
   "metadata": {},
   "source": [
    "In short, floats in python function very similarly to how numbers function in standard math.\n",
    "\n",
    "### A note about the type() function\n",
    "\n",
    "The type() function in python is a way to tell what data type any peice of info is. "
   ]
  },
  {
   "cell_type": "code",
   "execution_count": null,
   "metadata": {},
   "outputs": [],
   "source": [
    "# Here is an example of checking an integer\n",
    "type(12)"
   ]
  },
  {
   "cell_type": "code",
   "execution_count": null,
   "metadata": {},
   "outputs": [],
   "source": [
    "# Here is an example of checking a double\n",
    "type(12.)"
   ]
  },
  {
   "cell_type": "markdown",
   "metadata": {},
   "source": [
    "Notice that just by adding the decimal to the end of the 12 it is now a different data type."
   ]
  },
  {
   "cell_type": "code",
   "execution_count": null,
   "metadata": {},
   "outputs": [],
   "source": [
    "#try doing some of your own operations on doubles in this box"
   ]
  },
  {
   "cell_type": "markdown",
   "metadata": {},
   "source": [
    "## Booleans (True or False)\n",
    "Booleans are basically true or false statments. They can also be expressed with any number other than 0 being true, and 0 being false. As with any pair of true or false statements you can compare them.\n",
    "\n",
    "In python you write true and false with capital first letters so \"True\" and \"False\".\n",
    "\n",
    "Also, \"==\" translates to \"equals\" or \"is\" and \"!=\" translates to \"does not equal\" or \"is not\"."
   ]
  },
  {
   "cell_type": "code",
   "execution_count": null,
   "metadata": {},
   "outputs": [],
   "source": [
    "# In the next few cells I will put some example comparative statements. \n",
    "# Try to guess the output of the following cells. If you get it wrong, try to understand why you got it wrong?\n",
    "True == True"
   ]
  },
  {
   "cell_type": "code",
   "execution_count": null,
   "metadata": {},
   "outputs": [],
   "source": [
    "False == True"
   ]
  },
  {
   "cell_type": "code",
   "execution_count": null,
   "metadata": {},
   "outputs": [],
   "source": [
    "True != False"
   ]
  },
  {
   "cell_type": "code",
   "execution_count": null,
   "metadata": {},
   "outputs": [],
   "source": [
    "False != True"
   ]
  },
  {
   "cell_type": "code",
   "execution_count": null,
   "metadata": {},
   "outputs": [],
   "source": [
    "0 == False"
   ]
  },
  {
   "cell_type": "code",
   "execution_count": null,
   "metadata": {},
   "outputs": [],
   "source": [
    "1 == True"
   ]
  },
  {
   "cell_type": "code",
   "execution_count": null,
   "metadata": {},
   "outputs": [],
   "source": [
    "2 == True"
   ]
  },
  {
   "cell_type": "code",
   "execution_count": null,
   "metadata": {},
   "outputs": [],
   "source": [
    "-1 != 0"
   ]
  },
  {
   "cell_type": "code",
   "execution_count": null,
   "metadata": {},
   "outputs": [],
   "source": [
    "1 == 1"
   ]
  },
  {
   "cell_type": "code",
   "execution_count": null,
   "metadata": {},
   "outputs": [],
   "source": [
    "1 == 2"
   ]
  },
  {
   "cell_type": "code",
   "execution_count": null,
   "metadata": {},
   "outputs": [],
   "source": [
    "#try using booleans by yourself"
   ]
  },
  {
   "cell_type": "markdown",
   "metadata": {},
   "source": [
    "## Strings\n",
    "\n",
    "Strings are essentially just letters, numbers, and characters put together in order. They are always enclosed in a pair of single or double quotes."
   ]
  },
  {
   "cell_type": "code",
   "execution_count": null,
   "metadata": {},
   "outputs": [],
   "source": [
    "# Here are a few example strings\n",
    "'Strings are very fun to use'\n",
    "\"String can also have double quotes instead of single quotes\""
   ]
  },
  {
   "cell_type": "code",
   "execution_count": null,
   "metadata": {},
   "outputs": [],
   "source": [
    "# Here is what happens when you have a string correctly formated, and use the type() function on it.\n",
    "type('Hello World')"
   ]
  },
  {
   "cell_type": "code",
   "execution_count": null,
   "metadata": {},
   "outputs": [],
   "source": [
    "# Here is what happens when you use the type function on an incorrecetly formatted string\n",
    "type('Hello World)"
   ]
  },
  {
   "cell_type": "markdown",
   "metadata": {},
   "source": [
    "See how the second example of the type function brings up an error, that is because the string is incorrectly formatted.\n",
    "\n",
    "Another thing you can do is concatenate them. Concatenating them is basicly just sticking them together with the \"+\" operation. Be wary though, that this is not addition, and you can not use any other mathematical operator on them."
   ]
  },
  {
   "cell_type": "code",
   "execution_count": null,
   "metadata": {},
   "outputs": [],
   "source": [
    "# See how you can also concatenate multiple strings together, and that ' ' is a valid string. It is just a space.\n",
    "'cat' + ' ' + 'mat'"
   ]
  },
  {
   "cell_type": "markdown",
   "metadata": {},
   "source": [
    "## Casting Functions\n",
    "\n",
    "You know how adding a do to the end of a integer, made it a double. That is essentially what casting is. \n",
    "\n",
    "A more formal way to say it is, changing a peice of info from one data type to a different data type. The three that I will cover are str(), int(), and float()."
   ]
  },
  {
   "cell_type": "markdown",
   "metadata": {},
   "source": [
    "str() is pretty universal. It can basically be used on any type of info, and convert it into a string"
   ]
  },
  {
   "cell_type": "code",
   "execution_count": null,
   "metadata": {},
   "outputs": [],
   "source": [
    "# Here are some examples\n",
    "str(12)"
   ]
  },
  {
   "cell_type": "code",
   "execution_count": null,
   "metadata": {},
   "outputs": [],
   "source": [
    "str(12.)"
   ]
  },
  {
   "cell_type": "code",
   "execution_count": null,
   "metadata": {},
   "outputs": [],
   "source": [
    "# it can also be used on a properly formatted string, but it won't do much\n",
    "str('This is a string')"
   ]
  },
  {
   "cell_type": "markdown",
   "metadata": {},
   "source": [
    "There is also casting functions for floats and integers, and like I said you have already casted integers to floats by adding a decimal to the end of an integer."
   ]
  },
  {
   "cell_type": "code",
   "execution_count": null,
   "metadata": {},
   "outputs": [],
   "source": [
    "# Another way to cast integers to floats\n",
    "float(12)"
   ]
  },
  {
   "cell_type": "code",
   "execution_count": null,
   "metadata": {},
   "outputs": [],
   "source": [
    "# The way we first did it\n",
    "12."
   ]
  },
  {
   "cell_type": "code",
   "execution_count": null,
   "metadata": {},
   "outputs": [],
   "source": [
    "# Here is an example of casting floats to integers. The way it works in python is that it will always round down \n",
    "#  to the nearest integer that is smaller the the float.\n",
    "int(12.9999999999999)"
   ]
  },
  {
   "cell_type": "markdown",
   "metadata": {},
   "source": [
    "## A Few Exercises\n",
    "\n",
    "Write a line of code that finds twice the remainder of 3 divided by 4."
   ]
  },
  {
   "cell_type": "code",
   "execution_count": null,
   "metadata": {},
   "outputs": [],
   "source": [
    "# Write your code in here\n",
    "2 * (3 % 4)"
   ]
  },
  {
   "cell_type": "markdown",
   "metadata": {},
   "source": [
    "Use the type function on all the data types you learned, and print each of the results. "
   ]
  },
  {
   "cell_type": "code",
   "execution_count": null,
   "metadata": {},
   "outputs": [],
   "source": [
    "# Write your code in here"
   ]
  },
  {
   "cell_type": "markdown",
   "metadata": {},
   "source": [
    "Concatenate a string that says \"A cat in a hat\" from 6 different strings. "
   ]
  },
  {
   "cell_type": "code",
   "execution_count": null,
   "metadata": {},
   "outputs": [],
   "source": [
    "# Write your code in here"
   ]
  },
  {
   "cell_type": "markdown",
   "metadata": {},
   "source": [
    "Cast 12 of type int to a string and concatenate it the string \"eggs make a dozen\". (Hint, you will probably end up concatenating 3 strings)"
   ]
  },
  {
   "cell_type": "code",
   "execution_count": null,
   "metadata": {},
   "outputs": [],
   "source": [
    "# Write your code in here"
   ]
  },
  {
   "cell_type": "markdown",
   "metadata": {},
   "source": [
    "Write a line of code that find the difference of 3 * 2 subtracted by 6 * -2"
   ]
  },
  {
   "cell_type": "code",
   "execution_count": null,
   "metadata": {},
   "outputs": [],
   "source": [
    "# Write your code in here"
   ]
  },
  {
   "cell_type": "markdown",
   "metadata": {},
   "source": [
    "Use the two methods that we learned on how to make intgers into floats, on the integer 5. Also print the results."
   ]
  },
  {
   "cell_type": "code",
   "execution_count": null,
   "metadata": {},
   "outputs": [],
   "source": [
    "# Write your code in here"
   ]
  },
  {
   "cell_type": "markdown",
   "metadata": {},
   "source": [
    "**A Challenge Problem**\n",
    "\n",
    "As a challenge problem write a line of code that divided '13' (string) by '2' (string), and then find the remainder when that is divided by '3' (string)"
   ]
  },
  {
   "cell_type": "code",
   "execution_count": null,
   "metadata": {},
   "outputs": [],
   "source": [
    "# Write your code in here"
   ]
  },
  {
   "cell_type": "markdown",
   "metadata": {},
   "source": [
    "# Future Topics\n",
    "In python there are also things called data structures. Data structures are basically just different ways to a organize data. We will not cover them right know, but just be aware that they exist."
   ]
  }
 ],
 "metadata": {
  "kernelspec": {
   "display_name": "Python 2",
   "language": "python",
   "name": "python2"
  },
  "language_info": {
   "codemirror_mode": {
    "name": "ipython",
    "version": 2
   },
   "file_extension": ".py",
   "mimetype": "text/x-python",
   "name": "python",
   "nbconvert_exporter": "python",
   "pygments_lexer": "ipython2",
   "version": "2.7.16"
  }
 },
 "nbformat": 4,
 "nbformat_minor": 2
}
